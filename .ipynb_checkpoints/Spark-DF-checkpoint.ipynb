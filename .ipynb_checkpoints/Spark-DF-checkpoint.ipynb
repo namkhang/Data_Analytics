{
 "cells": [
  {
   "cell_type": "markdown",
   "metadata": {},
   "source": [
    "# Spark"
   ]
  },
  {
   "cell_type": "markdown",
   "metadata": {},
   "source": [
    "### Introduction:\n",
    "\n",
    "This time you will create the data.\n",
    "\n",
    "\n",
    "\n",
    "### Step 1. Import the necessary libraries"
   ]
  },
  {
   "cell_type": "code",
   "execution_count": 1,
   "metadata": {},
   "outputs": [
    {
     "ename": "TypeError",
     "evalue": "'bytes' object cannot be interpreted as an integer",
     "output_type": "error",
     "traceback": [
      "\u001b[1;31m---------------------------------------------------------------------------\u001b[0m",
      "\u001b[1;31mTypeError\u001b[0m                                 Traceback (most recent call last)",
      "Input \u001b[1;32mIn [1]\u001b[0m, in \u001b[0;36m<cell line: 3>\u001b[1;34m()\u001b[0m\n\u001b[0;32m      1\u001b[0m \u001b[38;5;28;01mimport\u001b[39;00m \u001b[38;5;21;01mnumpy\u001b[39;00m \u001b[38;5;28;01mas\u001b[39;00m \u001b[38;5;21;01mnp\u001b[39;00m\n\u001b[0;32m      2\u001b[0m \u001b[38;5;28;01mfrom\u001b[39;00m \u001b[38;5;21;01mdatetime\u001b[39;00m \u001b[38;5;28;01mimport\u001b[39;00m datetime\n\u001b[1;32m----> 3\u001b[0m \u001b[38;5;28;01mfrom\u001b[39;00m \u001b[38;5;21;01mpyspark\u001b[39;00m \u001b[38;5;28;01mimport\u001b[39;00m SparkContext, SparkConf\n\u001b[0;32m      4\u001b[0m \u001b[38;5;28;01mfrom\u001b[39;00m \u001b[38;5;21;01mpyspark\u001b[39;00m\u001b[38;5;21;01m.\u001b[39;00m\u001b[38;5;21;01msql\u001b[39;00m \u001b[38;5;28;01mimport\u001b[39;00m SparkSession , Row\n\u001b[0;32m      5\u001b[0m \u001b[38;5;28;01mfrom\u001b[39;00m \u001b[38;5;21;01mpyspark\u001b[39;00m\u001b[38;5;21;01m.\u001b[39;00m\u001b[38;5;21;01msql\u001b[39;00m\u001b[38;5;21;01m.\u001b[39;00m\u001b[38;5;21;01mtypes\u001b[39;00m \u001b[38;5;28;01mimport\u001b[39;00m \u001b[38;5;241m*\u001b[39m\n",
      "File \u001b[1;32m~\\AppData\\Local\\Programs\\Python\\Python310\\lib\\site-packages\\pyspark\\__init__.py:51\u001b[0m, in \u001b[0;36m<module>\u001b[1;34m\u001b[0m\n\u001b[0;32m     48\u001b[0m \u001b[38;5;28;01mimport\u001b[39;00m \u001b[38;5;21;01mtypes\u001b[39;00m\n\u001b[0;32m     50\u001b[0m \u001b[38;5;28;01mfrom\u001b[39;00m \u001b[38;5;21;01mpyspark\u001b[39;00m\u001b[38;5;21;01m.\u001b[39;00m\u001b[38;5;21;01mconf\u001b[39;00m \u001b[38;5;28;01mimport\u001b[39;00m SparkConf\n\u001b[1;32m---> 51\u001b[0m \u001b[38;5;28;01mfrom\u001b[39;00m \u001b[38;5;21;01mpyspark\u001b[39;00m\u001b[38;5;21;01m.\u001b[39;00m\u001b[38;5;21;01mcontext\u001b[39;00m \u001b[38;5;28;01mimport\u001b[39;00m SparkContext\n\u001b[0;32m     52\u001b[0m \u001b[38;5;28;01mfrom\u001b[39;00m \u001b[38;5;21;01mpyspark\u001b[39;00m\u001b[38;5;21;01m.\u001b[39;00m\u001b[38;5;21;01mrdd\u001b[39;00m \u001b[38;5;28;01mimport\u001b[39;00m RDD, RDDBarrier\n\u001b[0;32m     53\u001b[0m \u001b[38;5;28;01mfrom\u001b[39;00m \u001b[38;5;21;01mpyspark\u001b[39;00m\u001b[38;5;21;01m.\u001b[39;00m\u001b[38;5;21;01mfiles\u001b[39;00m \u001b[38;5;28;01mimport\u001b[39;00m SparkFiles\n",
      "File \u001b[1;32m~\\AppData\\Local\\Programs\\Python\\Python310\\lib\\site-packages\\pyspark\\context.py:31\u001b[0m, in \u001b[0;36m<module>\u001b[1;34m\u001b[0m\n\u001b[0;32m     27\u001b[0m \u001b[38;5;28;01mfrom\u001b[39;00m \u001b[38;5;21;01mtempfile\u001b[39;00m \u001b[38;5;28;01mimport\u001b[39;00m NamedTemporaryFile\n\u001b[0;32m     29\u001b[0m \u001b[38;5;28;01mfrom\u001b[39;00m \u001b[38;5;21;01mpy4j\u001b[39;00m\u001b[38;5;21;01m.\u001b[39;00m\u001b[38;5;21;01mprotocol\u001b[39;00m \u001b[38;5;28;01mimport\u001b[39;00m Py4JError\n\u001b[1;32m---> 31\u001b[0m \u001b[38;5;28;01mfrom\u001b[39;00m \u001b[38;5;21;01mpyspark\u001b[39;00m \u001b[38;5;28;01mimport\u001b[39;00m accumulators\n\u001b[0;32m     32\u001b[0m \u001b[38;5;28;01mfrom\u001b[39;00m \u001b[38;5;21;01mpyspark\u001b[39;00m\u001b[38;5;21;01m.\u001b[39;00m\u001b[38;5;21;01maccumulators\u001b[39;00m \u001b[38;5;28;01mimport\u001b[39;00m Accumulator\n\u001b[0;32m     33\u001b[0m \u001b[38;5;28;01mfrom\u001b[39;00m \u001b[38;5;21;01mpyspark\u001b[39;00m\u001b[38;5;21;01m.\u001b[39;00m\u001b[38;5;21;01mbroadcast\u001b[39;00m \u001b[38;5;28;01mimport\u001b[39;00m Broadcast, BroadcastPickleRegistry\n",
      "File \u001b[1;32m~\\AppData\\Local\\Programs\\Python\\Python310\\lib\\site-packages\\pyspark\\accumulators.py:97\u001b[0m, in \u001b[0;36m<module>\u001b[1;34m\u001b[0m\n\u001b[0;32m     95\u001b[0m     \u001b[38;5;28;01mimport\u001b[39;00m \u001b[38;5;21;01msocketserver\u001b[39;00m \u001b[38;5;28;01mas\u001b[39;00m \u001b[38;5;21;01mSocketServer\u001b[39;00m\n\u001b[0;32m     96\u001b[0m \u001b[38;5;28;01mimport\u001b[39;00m \u001b[38;5;21;01mthreading\u001b[39;00m\n\u001b[1;32m---> 97\u001b[0m \u001b[38;5;28;01mfrom\u001b[39;00m \u001b[38;5;21;01mpyspark\u001b[39;00m\u001b[38;5;21;01m.\u001b[39;00m\u001b[38;5;21;01mserializers\u001b[39;00m \u001b[38;5;28;01mimport\u001b[39;00m read_int, PickleSerializer\n\u001b[0;32m    100\u001b[0m __all__ \u001b[38;5;241m=\u001b[39m [\u001b[38;5;124m'\u001b[39m\u001b[38;5;124mAccumulator\u001b[39m\u001b[38;5;124m'\u001b[39m, \u001b[38;5;124m'\u001b[39m\u001b[38;5;124mAccumulatorParam\u001b[39m\u001b[38;5;124m'\u001b[39m]\n\u001b[0;32m    103\u001b[0m pickleSer \u001b[38;5;241m=\u001b[39m PickleSerializer()\n",
      "File \u001b[1;32m~\\AppData\\Local\\Programs\\Python\\Python310\\lib\\site-packages\\pyspark\\serializers.py:72\u001b[0m, in \u001b[0;36m<module>\u001b[1;34m\u001b[0m\n\u001b[0;32m     69\u001b[0m     protocol \u001b[38;5;241m=\u001b[39m \u001b[38;5;241m3\u001b[39m\n\u001b[0;32m     70\u001b[0m     xrange \u001b[38;5;241m=\u001b[39m \u001b[38;5;28mrange\u001b[39m\n\u001b[1;32m---> 72\u001b[0m \u001b[38;5;28;01mfrom\u001b[39;00m \u001b[38;5;21;01mpyspark\u001b[39;00m \u001b[38;5;28;01mimport\u001b[39;00m cloudpickle\n\u001b[0;32m     73\u001b[0m \u001b[38;5;28;01mfrom\u001b[39;00m \u001b[38;5;21;01mpyspark\u001b[39;00m\u001b[38;5;21;01m.\u001b[39;00m\u001b[38;5;21;01mutil\u001b[39;00m \u001b[38;5;28;01mimport\u001b[39;00m _exception_message\n\u001b[0;32m     76\u001b[0m __all__ \u001b[38;5;241m=\u001b[39m [\u001b[38;5;124m\"\u001b[39m\u001b[38;5;124mPickleSerializer\u001b[39m\u001b[38;5;124m\"\u001b[39m, \u001b[38;5;124m\"\u001b[39m\u001b[38;5;124mMarshalSerializer\u001b[39m\u001b[38;5;124m\"\u001b[39m, \u001b[38;5;124m\"\u001b[39m\u001b[38;5;124mUTF8Deserializer\u001b[39m\u001b[38;5;124m\"\u001b[39m]\n",
      "File \u001b[1;32m~\\AppData\\Local\\Programs\\Python\\Python310\\lib\\site-packages\\pyspark\\cloudpickle.py:145\u001b[0m, in \u001b[0;36m<module>\u001b[1;34m\u001b[0m\n\u001b[0;32m    125\u001b[0m     \u001b[38;5;28;01melse\u001b[39;00m:\n\u001b[0;32m    126\u001b[0m         \u001b[38;5;28;01mreturn\u001b[39;00m types\u001b[38;5;241m.\u001b[39mCodeType(\n\u001b[0;32m    127\u001b[0m             co\u001b[38;5;241m.\u001b[39mco_argcount,\n\u001b[0;32m    128\u001b[0m             co\u001b[38;5;241m.\u001b[39mco_kwonlyargcount,\n\u001b[1;32m   (...)\u001b[0m\n\u001b[0;32m    141\u001b[0m             (),\n\u001b[0;32m    142\u001b[0m         )\n\u001b[1;32m--> 145\u001b[0m _cell_set_template_code \u001b[38;5;241m=\u001b[39m \u001b[43m_make_cell_set_template_code\u001b[49m\u001b[43m(\u001b[49m\u001b[43m)\u001b[49m\n\u001b[0;32m    148\u001b[0m \u001b[38;5;28;01mdef\u001b[39;00m \u001b[38;5;21mcell_set\u001b[39m(cell, value):\n\u001b[0;32m    149\u001b[0m \u001b[38;5;250m    \u001b[39m\u001b[38;5;124;03m\"\"\"Set the value of a closure cell.\u001b[39;00m\n\u001b[0;32m    150\u001b[0m \u001b[38;5;124;03m    \"\"\"\u001b[39;00m\n",
      "File \u001b[1;32m~\\AppData\\Local\\Programs\\Python\\Python310\\lib\\site-packages\\pyspark\\cloudpickle.py:126\u001b[0m, in \u001b[0;36m_make_cell_set_template_code\u001b[1;34m()\u001b[0m\n\u001b[0;32m    109\u001b[0m     \u001b[38;5;28;01mreturn\u001b[39;00m types\u001b[38;5;241m.\u001b[39mCodeType(\n\u001b[0;32m    110\u001b[0m         co\u001b[38;5;241m.\u001b[39mco_argcount,\n\u001b[0;32m    111\u001b[0m         co\u001b[38;5;241m.\u001b[39mco_nlocals,\n\u001b[1;32m   (...)\u001b[0m\n\u001b[0;32m    123\u001b[0m         (),\n\u001b[0;32m    124\u001b[0m     )\n\u001b[0;32m    125\u001b[0m \u001b[38;5;28;01melse\u001b[39;00m:\n\u001b[1;32m--> 126\u001b[0m     \u001b[38;5;28;01mreturn\u001b[39;00m \u001b[43mtypes\u001b[49m\u001b[38;5;241;43m.\u001b[39;49m\u001b[43mCodeType\u001b[49m\u001b[43m(\u001b[49m\n\u001b[0;32m    127\u001b[0m \u001b[43m        \u001b[49m\u001b[43mco\u001b[49m\u001b[38;5;241;43m.\u001b[39;49m\u001b[43mco_argcount\u001b[49m\u001b[43m,\u001b[49m\n\u001b[0;32m    128\u001b[0m \u001b[43m        \u001b[49m\u001b[43mco\u001b[49m\u001b[38;5;241;43m.\u001b[39;49m\u001b[43mco_kwonlyargcount\u001b[49m\u001b[43m,\u001b[49m\n\u001b[0;32m    129\u001b[0m \u001b[43m        \u001b[49m\u001b[43mco\u001b[49m\u001b[38;5;241;43m.\u001b[39;49m\u001b[43mco_nlocals\u001b[49m\u001b[43m,\u001b[49m\n\u001b[0;32m    130\u001b[0m \u001b[43m        \u001b[49m\u001b[43mco\u001b[49m\u001b[38;5;241;43m.\u001b[39;49m\u001b[43mco_stacksize\u001b[49m\u001b[43m,\u001b[49m\n\u001b[0;32m    131\u001b[0m \u001b[43m        \u001b[49m\u001b[43mco\u001b[49m\u001b[38;5;241;43m.\u001b[39;49m\u001b[43mco_flags\u001b[49m\u001b[43m,\u001b[49m\n\u001b[0;32m    132\u001b[0m \u001b[43m        \u001b[49m\u001b[43mco\u001b[49m\u001b[38;5;241;43m.\u001b[39;49m\u001b[43mco_code\u001b[49m\u001b[43m,\u001b[49m\n\u001b[0;32m    133\u001b[0m \u001b[43m        \u001b[49m\u001b[43mco\u001b[49m\u001b[38;5;241;43m.\u001b[39;49m\u001b[43mco_consts\u001b[49m\u001b[43m,\u001b[49m\n\u001b[0;32m    134\u001b[0m \u001b[43m        \u001b[49m\u001b[43mco\u001b[49m\u001b[38;5;241;43m.\u001b[39;49m\u001b[43mco_names\u001b[49m\u001b[43m,\u001b[49m\n\u001b[0;32m    135\u001b[0m \u001b[43m        \u001b[49m\u001b[43mco\u001b[49m\u001b[38;5;241;43m.\u001b[39;49m\u001b[43mco_varnames\u001b[49m\u001b[43m,\u001b[49m\n\u001b[0;32m    136\u001b[0m \u001b[43m        \u001b[49m\u001b[43mco\u001b[49m\u001b[38;5;241;43m.\u001b[39;49m\u001b[43mco_filename\u001b[49m\u001b[43m,\u001b[49m\n\u001b[0;32m    137\u001b[0m \u001b[43m        \u001b[49m\u001b[43mco\u001b[49m\u001b[38;5;241;43m.\u001b[39;49m\u001b[43mco_name\u001b[49m\u001b[43m,\u001b[49m\n\u001b[0;32m    138\u001b[0m \u001b[43m        \u001b[49m\u001b[43mco\u001b[49m\u001b[38;5;241;43m.\u001b[39;49m\u001b[43mco_firstlineno\u001b[49m\u001b[43m,\u001b[49m\n\u001b[0;32m    139\u001b[0m \u001b[43m        \u001b[49m\u001b[43mco\u001b[49m\u001b[38;5;241;43m.\u001b[39;49m\u001b[43mco_lnotab\u001b[49m\u001b[43m,\u001b[49m\n\u001b[0;32m    140\u001b[0m \u001b[43m        \u001b[49m\u001b[43mco\u001b[49m\u001b[38;5;241;43m.\u001b[39;49m\u001b[43mco_cellvars\u001b[49m\u001b[43m,\u001b[49m\u001b[43m  \u001b[49m\u001b[38;5;66;43;03m# this is the trickery\u001b[39;49;00m\n\u001b[0;32m    141\u001b[0m \u001b[43m        \u001b[49m\u001b[43m(\u001b[49m\u001b[43m)\u001b[49m\u001b[43m,\u001b[49m\n\u001b[0;32m    142\u001b[0m \u001b[43m    \u001b[49m\u001b[43m)\u001b[49m\n",
      "\u001b[1;31mTypeError\u001b[0m: 'bytes' object cannot be interpreted as an integer"
     ]
    }
   ],
   "source": [
    "import numpy as np\n",
    "from datetime import datetime\n",
    "from pyspark import SparkContext, SparkConf\n",
    "from pyspark.sql import SparkSession , Row\n",
    "from pyspark.sql.types import *\n",
    "from pyspark.sql.functions import col , when , lit , udf ,to_timestamp , monotonically_increasing_id \n",
    "import os\n",
    "import sys\n",
    "\n",
    "os.environ['PYSPARK_PYTHON'] = sys.executable\n",
    "os.environ['PYSPARK_DRIVER_PYTHON'] = sys.executable\n",
    "os.environ[\"JAVA_HOME\"] = \"C:\\Program Files\\Java\\jdk-21\"\n",
    "os.environ[\"SPARK_HOME\"] = \"C:\\spark-3.5.0-bin-hadoop3\"\n"
   ]
  },
  {
   "cell_type": "code",
   "execution_count": 2,
   "metadata": {
    "scrolled": true
   },
   "outputs": [],
   "source": [
    "spark_sql = SparkSession.builder \\\n",
    ".appName('learn-spark-df') \\\n",
    ".config(\"spark.master\", \"spark://192.168.10.2:7077\") \\\n",
    ".config('spark.driver.memory' , '2g') \\\n",
    ".config('spark.cores.max' , '4') \\ # set tham số này để giới hạn só lượng executor được tạo ra. Nếu k set spark standart alone mode sẽ unlimit số lượng executor mà k refer tham số spark executor instance\n",
    ".config('spark.executor.instances' , '2') \\\n",
    ".config('spark.executor.cores' , '2') \\\n",
    ".config('spark.executor.memory' , '2g') \\\n",
    ".getOrCreate() \n"
   ]
  },
  {
   "cell_type": "code",
   "execution_count": 3,
   "metadata": {},
   "outputs": [
    {
     "name": "stdout",
     "output_type": "stream",
     "text": [
      "+----------+------+--------------+----+\n",
      "|Unnamed: 0|errors|    product_id|code|\n",
      "+----------+------+--------------+----+\n",
      "|       134|    48|   PRODUCT_917|BPAK|\n",
      "|       144|    12|  PRODUCT_1022|BLOK|\n",
      "|        16|    48|PRODUCT_149999|FQCH|\n",
      "|       326|     3|  PRODUCT_2323|EMAN|\n",
      "|       465|     1|  PRODUCT_3726|BPAK|\n",
      "|       488|     9|  PRODUCT_4384|FQCH|\n",
      "|       217|     1|  PRODUCT_1604|BPAK|\n",
      "|       261|    37|  PRODUCT_1703|FQCH|\n",
      "|       277|    96|  PRODUCT_1980|BPAK|\n",
      "|       305|     1|  PRODUCT_2083|EMAN|\n",
      "|       381|     8|  PRODUCT_2906|EMAN|\n",
      "|       200|     2|  PRODUCT_1515|BLOK|\n",
      "|       370|     1|  PRODUCT_2777|BLOK|\n",
      "|       483|    48|  PRODUCT_4219|BLOK|\n",
      "|       155|    12|  PRODUCT_1164|FQCH|\n",
      "|       302|    96|  PRODUCT_2135|FQCH|\n",
      "|       519|     1|  PRODUCT_4785|BLOK|\n",
      "|       548|     6|  PRODUCT_5393|BLOK|\n",
      "|       140|    19|  PRODUCT_1014|BPAK|\n",
      "|       299|     6|  PRODUCT_2069|BLOK|\n",
      "+----------+------+--------------+----+\n",
      "only showing top 20 rows\n",
      "\n"
     ]
    }
   ],
   "source": [
    "# data = [('dung',32) , ('hau',26) , ('khang',22) , ('quan',21)]\n",
    "# col = ['name' , 'age']\n",
    "# df = spark_sql.createDataFrame(data , schema = col)\n",
    "# df.show()\n",
    "\n",
    "\n",
    "data_err_1 = spark_sql.read.option(\"header\",True).csv(\"product_raw_data_part1.csv\")\n",
    "data_err_2 = spark_sql.read.option(\"header\",True).csv(\"product_raw_data_part2.csv\")\n",
    "data = data_err_1.union(data_err_2).distinct()\n",
    "data.show()\n",
    "\n",
    "# data  = [1,2,3,4,5]\n",
    "# distData = spark.parallelize(data)\n",
    "# distData.collect()\n",
    "# distFile = spark.textFile(\"data.txt\")\n",
    "# print(type(distFile))\n",
    "# distFile.collect()\n",
    "\n",
    "\n"
   ]
  },
  {
   "cell_type": "code",
   "execution_count": 1,
   "metadata": {},
   "outputs": [],
   "source": [
    "# spark_sql.conf.set('spark.executor.cores' , '2')"
   ]
  },
  {
   "cell_type": "code",
   "execution_count": 7,
   "metadata": {},
   "outputs": [],
   "source": [
    "# spark_sql.stop()"
   ]
  },
  {
   "cell_type": "code",
   "execution_count": 4,
   "metadata": {},
   "outputs": [
    {
     "name": "stdout",
     "output_type": "stream",
     "text": [
      "+------+--------------+----+\n",
      "|errors|    product_id|code|\n",
      "+------+--------------+----+\n",
      "|    48|   PRODUCT_917|BPAK|\n",
      "|    12|  PRODUCT_1022|BLOK|\n",
      "|    48|PRODUCT_149999|FQCH|\n",
      "|     3|  PRODUCT_2323|EMAN|\n",
      "|     1|  PRODUCT_3726|BPAK|\n",
      "|     9|  PRODUCT_4384|FQCH|\n",
      "|     1|  PRODUCT_1604|BPAK|\n",
      "|    37|  PRODUCT_1703|FQCH|\n",
      "|    96|  PRODUCT_1980|BPAK|\n",
      "|     1|  PRODUCT_2083|EMAN|\n",
      "|     8|  PRODUCT_2906|EMAN|\n",
      "|     2|  PRODUCT_1515|BLOK|\n",
      "|     1|  PRODUCT_2777|BLOK|\n",
      "|    48|  PRODUCT_4219|BLOK|\n",
      "|    12|  PRODUCT_1164|FQCH|\n",
      "|    96|  PRODUCT_2135|FQCH|\n",
      "|     1|  PRODUCT_4785|BLOK|\n",
      "|     6|  PRODUCT_5393|BLOK|\n",
      "|    19|  PRODUCT_1014|BPAK|\n",
      "|     6|  PRODUCT_2069|BLOK|\n",
      "+------+--------------+----+\n",
      "only showing top 20 rows\n",
      "\n"
     ]
    }
   ],
   "source": [
    "# data.dtypes\n",
    "\n",
    "# data.take(5)\n",
    "# data.fillna(0).collect()\n",
    "# data.first()\n",
    "# data.count()\n",
    "# data.head(10)\n",
    "# data_err_1.select('errors').show()\n",
    "# data.show(data.count(),False)\n",
    "data= data.drop('Unnamed: 0')\n",
    "data.show()"
   ]
  },
  {
   "cell_type": "code",
   "execution_count": 5,
   "metadata": {},
   "outputs": [
    {
     "name": "stdout",
     "output_type": "stream",
     "text": [
      "+------+--------------+----+\n",
      "|errors|    product_id|code|\n",
      "+------+--------------+----+\n",
      "|  96.0|  PRODUCT_1980|BPAK|\n",
      "|  96.0|  PRODUCT_2135|FQCH|\n",
      "|  96.0|   PRODUCT_959|BPAK|\n",
      "|  96.0|  PRODUCT_1957|FQCH|\n",
      "|  96.0|  PRODUCT_2377|BPAK|\n",
      "|  96.0|  PRODUCT_2025|FQCH|\n",
      "|  96.0|  PRODUCT_1998|BLOK|\n",
      "|  96.0|  PRODUCT_1989|EMAN|\n",
      "|  96.0|PRODUCT_144231|BLOK|\n",
      "|  96.0|  PRODUCT_1867|BPAK|\n",
      "|  96.0|  PRODUCT_1346|BPAK|\n",
      "|  96.0|  PRODUCT_1956|EMAN|\n",
      "|  96.0|  PRODUCT_2707|FQCH|\n",
      "|  96.0|  PRODUCT_2284|EMAN|\n",
      "|  96.0|  PRODUCT_2369|FQCH|\n",
      "|  96.0|  PRODUCT_1455|BPAK|\n",
      "|  96.0|  PRODUCT_1514|FQCH|\n",
      "|  96.0|  PRODUCT_1771|BLOK|\n",
      "|  96.0|  PRODUCT_1535|BLOK|\n",
      "|  96.0|  PRODUCT_3002|BLOK|\n",
      "+------+--------------+----+\n",
      "only showing top 20 rows\n",
      "\n"
     ]
    }
   ],
   "source": [
    "data =  data.withColumn(\"errors\", data[\"errors\"].cast(\"float\"))\n",
    "data.filter(data[\"errors\"] >= 96).show()\n"
   ]
  },
  {
   "cell_type": "code",
   "execution_count": 25,
   "metadata": {},
   "outputs": [
    {
     "name": "stdout",
     "output_type": "stream",
     "text": [
      "+------+-------------+----+\n",
      "|errors|   product_id|code|\n",
      "+------+-------------+----+\n",
      "|    99| PRODUCT_1934|EMAN|\n",
      "|    99|PRODUCT_10971|BLOK|\n",
      "|    97| PRODUCT_2415|BPAK|\n",
      "|    96|PRODUCT_14111|BLOK|\n",
      "|    96| PRODUCT_2025|FQCH|\n",
      "|    96| PRODUCT_1956|EMAN|\n",
      "|    96| PRODUCT_2707|FQCH|\n",
      "|    96| PRODUCT_2284|EMAN|\n",
      "|    96| PRODUCT_2369|FQCH|\n",
      "|    96| PRODUCT_1980|BPAK|\n",
      "|    96| PRODUCT_1514|FQCH|\n",
      "|    96| PRODUCT_2377|BPAK|\n",
      "|    96| PRODUCT_1535|BLOK|\n",
      "|    96| PRODUCT_1957|FQCH|\n",
      "|    96| PRODUCT_1989|EMAN|\n",
      "|    96| PRODUCT_1455|BPAK|\n",
      "|    96| PRODUCT_1867|BPAK|\n",
      "|    96| PRODUCT_1354|EMAN|\n",
      "|    96| PRODUCT_1771|BLOK|\n",
      "|    96|  PRODUCT_959|BPAK|\n",
      "+------+-------------+----+\n",
      "only showing top 20 rows\n",
      "\n"
     ]
    }
   ],
   "source": [
    "data.sort(\"errors\" , ascending = False).show()\n"
   ]
  },
  {
   "cell_type": "code",
   "execution_count": 36,
   "metadata": {},
   "outputs": [
    {
     "name": "stdout",
     "output_type": "stream",
     "text": [
      "+-----+------------------+\n",
      "| code|       avg(errors)|\n",
      "+-----+------------------+\n",
      "|BLOKd|               5.0|\n",
      "| BPAK| 15.06148867313916|\n",
      "| BLOK|12.153614457831326|\n",
      "| EMAN| 13.16969696969697|\n",
      "| FQCH|12.716981132075471|\n",
      "+-----+------------------+\n",
      "\n"
     ]
    }
   ],
   "source": [
    "data.groupBy('code').avg().show()"
   ]
  },
  {
   "cell_type": "code",
   "execution_count": 37,
   "metadata": {},
   "outputs": [
    {
     "name": "stdout",
     "output_type": "stream",
     "text": [
      "+-----+-----+\n",
      "| code|count|\n",
      "+-----+-----+\n",
      "|BLOKd|    1|\n",
      "| BPAK|  309|\n",
      "| BLOK|  332|\n",
      "| EMAN|  330|\n",
      "| FQCH|  318|\n",
      "+-----+-----+\n",
      "\n"
     ]
    }
   ],
   "source": [
    "data.groupBy('code').count().show()"
   ]
  },
  {
   "cell_type": "code",
   "execution_count": 38,
   "metadata": {},
   "outputs": [
    {
     "data": {
      "text/plain": [
       "[Row(code='BPAK'),\n",
       " Row(code='BLOK'),\n",
       " Row(code='FQCH'),\n",
       " Row(code='EMAN'),\n",
       " Row(code='BPAK'),\n",
       " Row(code='FQCH'),\n",
       " Row(code='BPAK'),\n",
       " Row(code='FQCH'),\n",
       " Row(code='BPAK'),\n",
       " Row(code='EMAN')]"
      ]
     },
     "execution_count": 38,
     "metadata": {},
     "output_type": "execute_result"
    }
   ],
   "source": [
    "data_test = data.select('code').take(10)\n",
    "data_test"
   ]
  },
  {
   "cell_type": "code",
   "execution_count": 13,
   "metadata": {},
   "outputs": [
    {
     "name": "stdout",
     "output_type": "stream",
     "text": [
      "EMAN\n",
      "BLOK\n",
      "BPAK\n",
      "BPAK\n",
      "FQCH\n",
      "EMAN\n",
      "FQCH\n",
      "BPAK\n",
      "BLOK\n",
      "FQCH\n"
     ]
    }
   ],
   "source": [
    "for i in data_test :\n",
    "    print(i.code)"
   ]
  },
  {
   "cell_type": "code",
   "execution_count": 14,
   "metadata": {
    "scrolled": true
   },
   "outputs": [
    {
     "name": "stdout",
     "output_type": "stream",
     "text": [
      "+------+-------------+----+\n",
      "|errors|   product_id|code|\n",
      "+------+-------------+----+\n",
      "|   4.0|  PRODUCT_145|EMAN|\n",
      "|   3.0| PRODUCT_1614|BLOK|\n",
      "|   5.0| PRODUCT_1611|BPAK|\n",
      "|  48.0| PRODUCT_2582|BPAK|\n",
      "|   2.0| PRODUCT_2706|FQCH|\n",
      "|   3.0| PRODUCT_4705|EMAN|\n",
      "|   3.0|PRODUCT_10791|FQCH|\n",
      "|   1.0|PRODUCT_11140|BPAK|\n",
      "|   1.0|PRODUCT_11489|BLOK|\n",
      "|   1.0|PRODUCT_12142|FQCH|\n",
      "|   5.0|PRODUCT_12510|FQCH|\n",
      "|  60.0|PRODUCT_14230|BPAK|\n",
      "|   1.0|PRODUCT_14160|BLOK|\n",
      "|   2.0| PRODUCT_1017|BPAK|\n",
      "|   1.0| PRODUCT_1408|BLOK|\n",
      "|   1.0| PRODUCT_3569|FQCH|\n",
      "|   1.0| PRODUCT_3900|FQCH|\n",
      "|   1.0|PRODUCT_11608|BPAK|\n",
      "|   2.0|PRODUCT_11697|BLOK|\n",
      "|   1.0|PRODUCT_11934|FQCH|\n",
      "+------+-------------+----+\n",
      "only showing top 20 rows\n",
      "\n"
     ]
    }
   ],
   "source": [
    "data.where(col(\"code\").isNotNull()).show()\n"
   ]
  },
  {
   "cell_type": "code",
   "execution_count": 15,
   "metadata": {},
   "outputs": [
    {
     "name": "stdout",
     "output_type": "stream",
     "text": [
      "+------+-------------+----+-------------+\n",
      "|errors|   product_id|code|double_errors|\n",
      "+------+-------------+----+-------------+\n",
      "|   4.0|  PRODUCT_145|EMAN|          8.0|\n",
      "|   3.0| PRODUCT_1614|BLOK|          6.0|\n",
      "|   5.0| PRODUCT_1611|BPAK|         10.0|\n",
      "|  48.0| PRODUCT_2582|BPAK|         96.0|\n",
      "|   2.0| PRODUCT_2706|FQCH|          4.0|\n",
      "|   3.0| PRODUCT_4705|EMAN|          6.0|\n",
      "|   3.0|PRODUCT_10791|FQCH|          6.0|\n",
      "|   1.0|PRODUCT_11140|BPAK|          2.0|\n",
      "|   1.0|PRODUCT_11489|BLOK|          2.0|\n",
      "|   1.0|PRODUCT_12142|FQCH|          2.0|\n",
      "|   5.0|PRODUCT_12510|FQCH|         10.0|\n",
      "|  60.0|PRODUCT_14230|BPAK|        120.0|\n",
      "|   1.0|PRODUCT_14160|BLOK|          2.0|\n",
      "|   2.0| PRODUCT_1017|BPAK|          4.0|\n",
      "|   1.0| PRODUCT_1408|BLOK|          2.0|\n",
      "|   1.0| PRODUCT_3569|FQCH|          2.0|\n",
      "|   1.0| PRODUCT_3900|FQCH|          2.0|\n",
      "|   1.0|PRODUCT_11608|BPAK|          2.0|\n",
      "|   2.0|PRODUCT_11697|BLOK|          4.0|\n",
      "|   1.0|PRODUCT_11934|FQCH|          2.0|\n",
      "+------+-------------+----+-------------+\n",
      "only showing top 20 rows\n",
      "\n"
     ]
    }
   ],
   "source": [
    "data=data.withColumn(\"double_errors\" , data['errors'] * 2)\n",
    "data.show()"
   ]
  },
  {
   "cell_type": "code",
   "execution_count": 16,
   "metadata": {},
   "outputs": [
    {
     "name": "stdout",
     "output_type": "stream",
     "text": [
      "+------+-------------+----+-------------+\n",
      "|errors|   product_id|code|double_errors|\n",
      "+------+-------------+----+-------------+\n",
      "|   4.0|  PRODUCT_145|EMAN|          8.0|\n",
      "|   3.0| PRODUCT_1614|BLOK|          6.0|\n",
      "|   5.0| PRODUCT_1611|BPAK|         10.0|\n",
      "|  48.0| PRODUCT_2582|BPAK|         96.0|\n",
      "|   2.0| PRODUCT_2706|FQCH|          4.0|\n",
      "|   3.0| PRODUCT_4705|EMAN|          6.0|\n",
      "|   3.0|PRODUCT_10791|FQCH|          6.0|\n",
      "|   1.0|PRODUCT_11140|BPAK|          2.0|\n",
      "|   1.0|PRODUCT_11489|BLOK|          2.0|\n",
      "|   1.0|PRODUCT_12142|FQCH|          2.0|\n",
      "|   5.0|PRODUCT_12510|FQCH|         10.0|\n",
      "|  60.0|PRODUCT_14230|BPAK|         60.0|\n",
      "|   1.0|PRODUCT_14160|BLOK|          2.0|\n",
      "|   2.0| PRODUCT_1017|BPAK|          4.0|\n",
      "|   1.0| PRODUCT_1408|BLOK|          2.0|\n",
      "|   1.0| PRODUCT_3569|FQCH|          2.0|\n",
      "|   1.0| PRODUCT_3900|FQCH|          2.0|\n",
      "|   1.0|PRODUCT_11608|BPAK|          2.0|\n",
      "|   2.0|PRODUCT_11697|BLOK|          4.0|\n",
      "|   1.0|PRODUCT_11934|FQCH|          2.0|\n",
      "+------+-------------+----+-------------+\n",
      "only showing top 20 rows\n",
      "\n"
     ]
    }
   ],
   "source": [
    "data.withColumn(\"double_errors\" , when(data['double_errors'] > 100 , data['double_errors']/2).otherwise(data.double_errors)).show()"
   ]
  },
  {
   "cell_type": "code",
   "execution_count": 17,
   "metadata": {},
   "outputs": [
    {
     "name": "stdout",
     "output_type": "stream",
     "text": [
      "+------+-------------+----+-------------+\n",
      "|errors|   product_id|code|double_errors|\n",
      "+------+-------------+----+-------------+\n",
      "|   4.0|  PRODUCT_145|EMAN|          8.0|\n",
      "|   3.0| PRODUCT_1614|BLOK|          6.0|\n",
      "|   5.0| PRODUCT_1611|BPAK|         10.0|\n",
      "|  48.0| PRODUCT_2582|BPAK|         96.0|\n",
      "|   2.0| PRODUCT_2706|FQCH|          4.0|\n",
      "|   3.0| PRODUCT_4705|EMAN|          6.0|\n",
      "|   3.0|PRODUCT_10791|FQCH|          6.0|\n",
      "|   1.0|PRODUCT_11140|BPAK|          0.0|\n",
      "|   1.0|PRODUCT_11489|BLOK|          0.0|\n",
      "|   1.0|PRODUCT_12142|FQCH|          0.0|\n",
      "|   5.0|PRODUCT_12510|FQCH|         10.0|\n",
      "|  60.0|PRODUCT_14230|BPAK|        120.0|\n",
      "|   1.0|PRODUCT_14160|BLOK|          0.0|\n",
      "|   2.0| PRODUCT_1017|BPAK|          4.0|\n",
      "|   1.0| PRODUCT_1408|BLOK|          0.0|\n",
      "|   1.0| PRODUCT_3569|FQCH|          0.0|\n",
      "|   1.0| PRODUCT_3900|FQCH|          0.0|\n",
      "|   1.0|PRODUCT_11608|BPAK|          0.0|\n",
      "|   2.0|PRODUCT_11697|BLOK|          4.0|\n",
      "|   1.0|PRODUCT_11934|FQCH|          0.0|\n",
      "+------+-------------+----+-------------+\n",
      "only showing top 20 rows\n",
      "\n"
     ]
    }
   ],
   "source": [
    "data.withColumn(\"double_errors\" , when(data['double_errors'] == 2.0 , 0).otherwise(data.double_errors)).show()"
   ]
  },
  {
   "cell_type": "code",
   "execution_count": 18,
   "metadata": {},
   "outputs": [
    {
     "name": "stdout",
     "output_type": "stream",
     "text": [
      "+------+-------------+----+-------------+-------+\n",
      "|errors|   product_id|code|double_errors|isError|\n",
      "+------+-------------+----+-------------+-------+\n",
      "|   4.0|  PRODUCT_145|EMAN|          8.0|  false|\n",
      "|   3.0| PRODUCT_1614|BLOK|          6.0|  false|\n",
      "|   5.0| PRODUCT_1611|BPAK|         10.0|  false|\n",
      "|  48.0| PRODUCT_2582|BPAK|         96.0|  false|\n",
      "|   2.0| PRODUCT_2706|FQCH|          4.0|  false|\n",
      "|   3.0| PRODUCT_4705|EMAN|          6.0|  false|\n",
      "|   3.0|PRODUCT_10791|FQCH|          6.0|  false|\n",
      "|   1.0|PRODUCT_11140|BPAK|          2.0|  false|\n",
      "|   1.0|PRODUCT_11489|BLOK|          2.0|  false|\n",
      "|   1.0|PRODUCT_12142|FQCH|          2.0|  false|\n",
      "|   5.0|PRODUCT_12510|FQCH|         10.0|  false|\n",
      "|  60.0|PRODUCT_14230|BPAK|        120.0|  false|\n",
      "|   1.0|PRODUCT_14160|BLOK|          2.0|  false|\n",
      "|   2.0| PRODUCT_1017|BPAK|          4.0|  false|\n",
      "|   1.0| PRODUCT_1408|BLOK|          2.0|  false|\n",
      "|   1.0| PRODUCT_3569|FQCH|          2.0|  false|\n",
      "|   1.0| PRODUCT_3900|FQCH|          2.0|  false|\n",
      "|   1.0|PRODUCT_11608|BPAK|          2.0|  false|\n",
      "|   2.0|PRODUCT_11697|BLOK|          4.0|  false|\n",
      "|   1.0|PRODUCT_11934|FQCH|          2.0|  false|\n",
      "+------+-------------+----+-------------+-------+\n",
      "only showing top 20 rows\n",
      "\n"
     ]
    }
   ],
   "source": [
    "data = data.withColumn(\"isError\" , lit(False))\n",
    "data.show()"
   ]
  },
  {
   "cell_type": "code",
   "execution_count": null,
   "metadata": {},
   "outputs": [],
   "source": []
  },
  {
   "cell_type": "code",
   "execution_count": 19,
   "metadata": {},
   "outputs": [
    {
     "name": "stdout",
     "output_type": "stream",
     "text": [
      "+----+------------+-------------------+-------------------+-------------+\n",
      "| _c0|machine_name|            in_time|           out_time|   product_id|\n",
      "+----+------------+-------------------+-------------------+-------------+\n",
      "| 134| MACHINE_002|2014-12-08 03-48-14|2014-12-08 04-45-52|PRODUCT_10134|\n",
      "| 732| MACHINE_002|2015-01-01 15-16-18|2015-01-01 16-19-21|PRODUCT_10732|\n",
      "| 825| MACHINE_002|2014-12-30 11-46-40|2014-12-30 16-22-10|PRODUCT_10825|\n",
      "|1212| MACHINE_002|2015-01-21 17-46-07|2015-01-21 18-36-21|PRODUCT_11212|\n",
      "|1303| MACHINE_002|2015-01-25 02-56-31|2015-01-25 03-41-39|PRODUCT_11303|\n",
      "|1541| MACHINE_002|2015-02-04 09-00-25|2015-02-04 10-00-20|PRODUCT_11541|\n",
      "|2255| MACHINE_002|2015-03-08 23-48-55|2015-03-09 01-03-15|PRODUCT_12255|\n",
      "|2409| MACHINE_002|2015-03-14 16-02-40|2015-03-14 16-41-51|PRODUCT_12409|\n",
      "|2440| MACHINE_002|2015-03-15 15-20-39|2015-03-15 16-00-45|PRODUCT_12440|\n",
      "|3159| MACHINE_002|2015-04-17 02-42-38|2015-04-17 03-16-50|PRODUCT_13159|\n",
      "|3881| MACHINE_002|2015-05-21 12-29-40|2015-05-21 14-56-06|PRODUCT_13881|\n",
      "|4239| MACHINE_002|2015-06-10 04-09-05|2015-06-10 05-41-07|PRODUCT_14239|\n",
      "|4302| MACHINE_002|2015-06-13 03-03-53|2015-06-13 03-43-52|PRODUCT_14302|\n",
      "|4513| MACHINE_002|2015-06-23 15-42-51|2015-06-23 17-57-26|PRODUCT_14513|\n",
      "|4519| MACHINE_002|2015-06-24 06-15-39|2015-06-24 07-01-23|PRODUCT_14519|\n",
      "|4537| MACHINE_002|2015-06-24 18-57-00|2015-06-24 20-20-34|PRODUCT_14537|\n",
      "|  53| MACHINE_001|2014-12-05 00-14-15|2014-12-04 23-38-00|   PRODUCT_54|\n",
      "|  88| MACHINE_001|2014-12-07 08-58-06|2014-12-07 08-35-34|   PRODUCT_89|\n",
      "| 155| MACHINE_001|2014-12-11 04-38-51|2014-12-11 04-06-14|  PRODUCT_156|\n",
      "| 475| MACHINE_001|2014-12-25 03-43-55|2014-12-25 03-02-57|  PRODUCT_476|\n",
      "+----+------------+-------------------+-------------------+-------------+\n",
      "only showing top 20 rows\n",
      "\n"
     ]
    }
   ],
   "source": [
    "data_product_1 = spark_sql.read.option(\"header\",True).csv(\"product_raw_data_part1.csv\")\n",
    "data_product_2 = spark_sql.read.option(\"header\",True).csv(\"product_raw_data_part2.csv\")\n",
    "data_product = data_product_1.union(data_product_2).distinct()\n",
    "data_product.show()\n"
   ]
  },
  {
   "cell_type": "code",
   "execution_count": 20,
   "metadata": {},
   "outputs": [],
   "source": [
    "data = data_product.join(data , ['product_id'])"
   ]
  },
  {
   "cell_type": "code",
   "execution_count": 21,
   "metadata": {},
   "outputs": [
    {
     "name": "stdout",
     "output_type": "stream",
     "text": [
      "+-------------+----+------------+-------------------+-------------------+------+----+-------------+-------+\n",
      "|   product_id| _c0|machine_name|            in_time|           out_time|errors|code|double_errors|isError|\n",
      "+-------------+----+------------+-------------------+-------------------+------+----+-------------+-------+\n",
      "|PRODUCT_10825| 825| MACHINE_002|2014-12-30 11-46-40|2014-12-30 16-22-10|   4.0|EMAN|          8.0|  false|\n",
      "|PRODUCT_10222| 222| MACHINE_002|2014-12-12 08-22-48|2014-12-12 09-57-41|   1.0|BPAK|          2.0|  false|\n",
      "|PRODUCT_13980|3980| MACHINE_002|2015-05-26 10-19-20|2015-05-26 11-05-50|   1.0|BLOK|          2.0|  false|\n",
      "|PRODUCT_14257|4257| MACHINE_002|2015-06-11 08-56-01|2015-06-11 10-36-17|  60.0|FQCH|        120.0|  false|\n",
      "| PRODUCT_1947|1946| MACHINE_001|2015-03-01 20-54-49|2015-03-01 18-59-29|  51.0|BLOK|        102.0|  false|\n",
      "| PRODUCT_2068|2067| MACHINE_001|2015-03-06 06-31-28|2015-03-06 05-46-03|   1.0|BLOK|          2.0|  false|\n",
      "| PRODUCT_2797|2796| MACHINE_001|2015-03-31 16-18-52|2015-03-31 14-45-10|   1.0|BLOK|          2.0|  false|\n",
      "|PRODUCT_10814| 814| MACHINE_002|2015-01-04 04-26-51|2015-01-04 05-22-38|   1.0|FQCH|          2.0|  false|\n",
      "|PRODUCT_12134|2134| MACHINE_002|2015-03-03 20-29-21|2015-03-03 21-51-10|   2.0|EMAN|          4.0|  false|\n",
      "|  PRODUCT_332| 331| MACHINE_001|2014-12-18 21-25-07|2014-12-18 20-22-48|  48.0|EMAN|         96.0|  false|\n",
      "|  PRODUCT_332| 331| MACHINE_001|2014-12-18 21-25-07|2014-12-18 20-22-48|   1.0|BPAK|          2.0|  false|\n",
      "|PRODUCT_11140|1140| MACHINE_002|2015-01-19 00-04-53|2015-01-19 01-38-53|   1.0|BPAK|          2.0|  false|\n",
      "|PRODUCT_12386|2386| MACHINE_002|2015-03-14 03-22-25|2015-03-14 03-56-04|   1.0|BPAK|          2.0|  false|\n",
      "|PRODUCT_12627|2627| MACHINE_002|2015-03-22 14-59-48|2015-03-22 16-38-29|   1.0|BLOK|          2.0|  false|\n",
      "|PRODUCT_12627|2627| MACHINE_002|2015-03-22 14-59-48|2015-03-22 16-38-29|   2.0|EMAN|          4.0|  false|\n",
      "|PRODUCT_13251|3251| MACHINE_002|2015-04-20 16-54-57|2015-04-20 18-02-28|   1.0|BLOK|          2.0|  false|\n",
      "| PRODUCT_1482|1481| MACHINE_001|2015-02-04 22-07-11|2015-02-04 20-49-31|   2.0|FQCH|          4.0|  false|\n",
      "| PRODUCT_3659|3658| MACHINE_001|2015-05-05 13-01-00|2015-05-05 11-42-46|   2.0|FQCH|          4.0|  false|\n",
      "|PRODUCT_11151|1151| MACHINE_002|2015-01-18 17-27-08|2015-01-18 17-50-23|   4.0|BPAK|          8.0|  false|\n",
      "|PRODUCT_12795|2795| MACHINE_002|2015-03-30 14-31-30|2015-03-30 15-34-18|   1.0|BLOK|          2.0|  false|\n",
      "+-------------+----+------------+-------------------+-------------------+------+----+-------------+-------+\n",
      "only showing top 20 rows\n",
      "\n"
     ]
    }
   ],
   "source": [
    "data.show()"
   ]
  },
  {
   "cell_type": "code",
   "execution_count": 22,
   "metadata": {},
   "outputs": [],
   "source": [
    "data = data.drop('_c0')"
   ]
  },
  {
   "cell_type": "code",
   "execution_count": 23,
   "metadata": {},
   "outputs": [],
   "source": [
    "data = data.withColumnRenamed('in_time' , 'start_at') \\\n",
    "    .withColumnRenamed('out_time' , 'end_at') \\\n",
    "    .withColumnRenamed('errors' , 'errors_quantity') \\\n",
    "    .withColumnRenamed('double_errors' , 'double_errors_quantity') \n"
   ]
  },
  {
   "cell_type": "code",
   "execution_count": 24,
   "metadata": {},
   "outputs": [
    {
     "name": "stdout",
     "output_type": "stream",
     "text": [
      "+-------------+------------+-------------------+-------------------+---------------+----+----------------------+-------+\n",
      "|   product_id|machine_name|           start_at|             end_at|errors_quantity|code|double_errors_quantity|isError|\n",
      "+-------------+------------+-------------------+-------------------+---------------+----+----------------------+-------+\n",
      "|PRODUCT_10825| MACHINE_002|2014-12-30 11-46-40|2014-12-30 16-22-10|            4.0|EMAN|                   8.0|  false|\n",
      "|PRODUCT_10222| MACHINE_002|2014-12-12 08-22-48|2014-12-12 09-57-41|            1.0|BPAK|                   2.0|  false|\n",
      "|PRODUCT_13980| MACHINE_002|2015-05-26 10-19-20|2015-05-26 11-05-50|            1.0|BLOK|                   2.0|  false|\n",
      "|PRODUCT_14257| MACHINE_002|2015-06-11 08-56-01|2015-06-11 10-36-17|           60.0|FQCH|                 120.0|  false|\n",
      "| PRODUCT_1947| MACHINE_001|2015-03-01 20-54-49|2015-03-01 18-59-29|           51.0|BLOK|                 102.0|  false|\n",
      "| PRODUCT_2068| MACHINE_001|2015-03-06 06-31-28|2015-03-06 05-46-03|            1.0|BLOK|                   2.0|  false|\n",
      "| PRODUCT_2797| MACHINE_001|2015-03-31 16-18-52|2015-03-31 14-45-10|            1.0|BLOK|                   2.0|  false|\n",
      "|PRODUCT_10814| MACHINE_002|2015-01-04 04-26-51|2015-01-04 05-22-38|            1.0|FQCH|                   2.0|  false|\n",
      "|PRODUCT_12134| MACHINE_002|2015-03-03 20-29-21|2015-03-03 21-51-10|            2.0|EMAN|                   4.0|  false|\n",
      "|  PRODUCT_332| MACHINE_001|2014-12-18 21-25-07|2014-12-18 20-22-48|           48.0|EMAN|                  96.0|  false|\n",
      "|  PRODUCT_332| MACHINE_001|2014-12-18 21-25-07|2014-12-18 20-22-48|            1.0|BPAK|                   2.0|  false|\n",
      "|PRODUCT_11140| MACHINE_002|2015-01-19 00-04-53|2015-01-19 01-38-53|            1.0|BPAK|                   2.0|  false|\n",
      "|PRODUCT_12386| MACHINE_002|2015-03-14 03-22-25|2015-03-14 03-56-04|            1.0|BPAK|                   2.0|  false|\n",
      "|PRODUCT_12627| MACHINE_002|2015-03-22 14-59-48|2015-03-22 16-38-29|            1.0|BLOK|                   2.0|  false|\n",
      "|PRODUCT_12627| MACHINE_002|2015-03-22 14-59-48|2015-03-22 16-38-29|            2.0|EMAN|                   4.0|  false|\n",
      "|PRODUCT_13251| MACHINE_002|2015-04-20 16-54-57|2015-04-20 18-02-28|            1.0|BLOK|                   2.0|  false|\n",
      "| PRODUCT_1482| MACHINE_001|2015-02-04 22-07-11|2015-02-04 20-49-31|            2.0|FQCH|                   4.0|  false|\n",
      "| PRODUCT_3659| MACHINE_001|2015-05-05 13-01-00|2015-05-05 11-42-46|            2.0|FQCH|                   4.0|  false|\n",
      "|PRODUCT_11151| MACHINE_002|2015-01-18 17-27-08|2015-01-18 17-50-23|            4.0|BPAK|                   8.0|  false|\n",
      "|PRODUCT_12795| MACHINE_002|2015-03-30 14-31-30|2015-03-30 15-34-18|            1.0|BLOK|                   2.0|  false|\n",
      "+-------------+------------+-------------------+-------------------+---------------+----+----------------------+-------+\n",
      "only showing top 20 rows\n",
      "\n"
     ]
    }
   ],
   "source": [
    "data.show()"
   ]
  },
  {
   "cell_type": "code",
   "execution_count": 25,
   "metadata": {},
   "outputs": [
    {
     "name": "stdout",
     "output_type": "stream",
     "text": [
      "+-------------+------------+-------------------+-------------------+---------------+----+----------------------+-------+\n",
      "|   product_id|machine_name|           start_at|             end_at|errors_quantity|code|double_errors_quantity|isError|\n",
      "+-------------+------------+-------------------+-------------------+---------------+----+----------------------+-------+\n",
      "|PRODUCT_10825| MACHINE_002|2014-12-30 11-46-40|2014-12-30 16-22-10|            4.0|EMAN|                   8.0|  false|\n",
      "|PRODUCT_10222| MACHINE_002|2014-12-12 08-22-48|2014-12-12 09-57-41|            1.0|BPAK|                   2.0|  false|\n",
      "|PRODUCT_13980| MACHINE_002|2015-05-26 10-19-20|2015-05-26 11-05-50|            1.0|BLOK|                   2.0|  false|\n",
      "|PRODUCT_14257| MACHINE_002|2015-06-11 08-56-01|2015-06-11 10-36-17|           60.0|FQCH|                 120.0|  false|\n",
      "| PRODUCT_1947| MACHINE_001|2015-03-01 20-54-49|2015-03-01 18-59-29|           51.0|BLOK|                 102.0|  false|\n",
      "| PRODUCT_2068| MACHINE_001|2015-03-06 06-31-28|2015-03-06 05-46-03|            1.0|BLOK|                   2.0|  false|\n",
      "| PRODUCT_2797| MACHINE_001|2015-03-31 16-18-52|2015-03-31 14-45-10|            1.0|BLOK|                   2.0|  false|\n",
      "|PRODUCT_10814| MACHINE_002|2015-01-04 04-26-51|2015-01-04 05-22-38|            1.0|FQCH|                   2.0|  false|\n",
      "|PRODUCT_12134| MACHINE_002|2015-03-03 20-29-21|2015-03-03 21-51-10|            2.0|EMAN|                   4.0|  false|\n",
      "|  PRODUCT_332| MACHINE_001|2014-12-18 21-25-07|2014-12-18 20-22-48|           48.0|EMAN|                  96.0|  false|\n",
      "|  PRODUCT_332| MACHINE_001|2014-12-18 21-25-07|2014-12-18 20-22-48|            1.0|BPAK|                   2.0|  false|\n",
      "|PRODUCT_11140| MACHINE_002|2015-01-19 00-04-53|2015-01-19 01-38-53|            1.0|BPAK|                   2.0|  false|\n",
      "|PRODUCT_12386| MACHINE_002|2015-03-14 03-22-25|2015-03-14 03-56-04|            1.0|BPAK|                   2.0|  false|\n",
      "|PRODUCT_12627| MACHINE_002|2015-03-22 14-59-48|2015-03-22 16-38-29|            1.0|BLOK|                   2.0|  false|\n",
      "|PRODUCT_12627| MACHINE_002|2015-03-22 14-59-48|2015-03-22 16-38-29|            2.0|EMAN|                   4.0|  false|\n",
      "|PRODUCT_13251| MACHINE_002|2015-04-20 16-54-57|2015-04-20 18-02-28|            1.0|BLOK|                   2.0|  false|\n",
      "| PRODUCT_1482| MACHINE_001|2015-02-04 22-07-11|2015-02-04 20-49-31|            2.0|FQCH|                   4.0|  false|\n",
      "| PRODUCT_3659| MACHINE_001|2015-05-05 13-01-00|2015-05-05 11-42-46|            2.0|FQCH|                   4.0|  false|\n",
      "|PRODUCT_11151| MACHINE_002|2015-01-18 17-27-08|2015-01-18 17-50-23|            4.0|BPAK|                   8.0|  false|\n",
      "|PRODUCT_12795| MACHINE_002|2015-03-30 14-31-30|2015-03-30 15-34-18|            1.0|BLOK|                   2.0|  false|\n",
      "+-------------+------------+-------------------+-------------------+---------------+----+----------------------+-------+\n",
      "only showing top 20 rows\n",
      "\n"
     ]
    }
   ],
   "source": [
    "data.filter(col('code').isNotNull()).show()"
   ]
  },
  {
   "cell_type": "code",
   "execution_count": 26,
   "metadata": {},
   "outputs": [
    {
     "name": "stdout",
     "output_type": "stream",
     "text": [
      "+-------------+------------+-------------------+-------------------+---------------+----+----------------------+-------+\n",
      "|   product_id|machine_name|           start_at|             end_at|errors_quantity|code|double_errors_quantity|isError|\n",
      "+-------------+------------+-------------------+-------------------+---------------+----+----------------------+-------+\n",
      "|PRODUCT_10825| MACHINE_002|2014-12-30 11-46-40|2014-12-30 16-22-10|            4.0|EMAN|                   8.0|  false|\n",
      "|PRODUCT_10222| MACHINE_002|2014-12-12 08-22-48|2014-12-12 09-57-41|            1.0|BPAK|                   2.0|  false|\n",
      "|PRODUCT_13980| MACHINE_002|2015-05-26 10-19-20|2015-05-26 11-05-50|            1.0|BLOK|                   2.0|  false|\n",
      "|PRODUCT_14257| MACHINE_002|2015-06-11 08-56-01|2015-06-11 10-36-17|           60.0|FQCH|                 120.0|  false|\n",
      "| PRODUCT_1947| MACHINE_001|2015-03-01 20-54-49|2015-03-01 18-59-29|           51.0|BLOK|                 102.0|  false|\n",
      "| PRODUCT_2068| MACHINE_001|2015-03-06 06-31-28|2015-03-06 05-46-03|            1.0|BLOK|                   2.0|  false|\n",
      "| PRODUCT_2797| MACHINE_001|2015-03-31 16-18-52|2015-03-31 14-45-10|            1.0|BLOK|                   2.0|  false|\n",
      "|PRODUCT_10814| MACHINE_002|2015-01-04 04-26-51|2015-01-04 05-22-38|            1.0|FQCH|                   2.0|  false|\n",
      "|PRODUCT_12134| MACHINE_002|2015-03-03 20-29-21|2015-03-03 21-51-10|            2.0|EMAN|                   4.0|  false|\n",
      "|  PRODUCT_332| MACHINE_001|2014-12-18 21-25-07|2014-12-18 20-22-48|           48.0|EMAN|                  96.0|  false|\n",
      "|  PRODUCT_332| MACHINE_001|2014-12-18 21-25-07|2014-12-18 20-22-48|            1.0|BPAK|                   2.0|  false|\n",
      "|PRODUCT_11140| MACHINE_002|2015-01-19 00-04-53|2015-01-19 01-38-53|            1.0|BPAK|                   2.0|  false|\n",
      "|PRODUCT_12386| MACHINE_002|2015-03-14 03-22-25|2015-03-14 03-56-04|            1.0|BPAK|                   2.0|  false|\n",
      "|PRODUCT_12627| MACHINE_002|2015-03-22 14-59-48|2015-03-22 16-38-29|            1.0|BLOK|                   2.0|  false|\n",
      "|PRODUCT_12627| MACHINE_002|2015-03-22 14-59-48|2015-03-22 16-38-29|            2.0|EMAN|                   4.0|  false|\n",
      "|PRODUCT_13251| MACHINE_002|2015-04-20 16-54-57|2015-04-20 18-02-28|            1.0|BLOK|                   2.0|  false|\n",
      "| PRODUCT_1482| MACHINE_001|2015-02-04 22-07-11|2015-02-04 20-49-31|            2.0|FQCH|                   4.0|  false|\n",
      "| PRODUCT_3659| MACHINE_001|2015-05-05 13-01-00|2015-05-05 11-42-46|            2.0|FQCH|                   4.0|  false|\n",
      "|PRODUCT_11151| MACHINE_002|2015-01-18 17-27-08|2015-01-18 17-50-23|            4.0|BPAK|                   8.0|  false|\n",
      "|PRODUCT_12795| MACHINE_002|2015-03-30 14-31-30|2015-03-30 15-34-18|            1.0|BLOK|                   2.0|  false|\n",
      "+-------------+------------+-------------------+-------------------+---------------+----+----------------------+-------+\n",
      "only showing top 20 rows\n",
      "\n"
     ]
    }
   ],
   "source": [
    "# data = data.drop('Unnamed: 0')\n",
    "data.show()"
   ]
  },
  {
   "cell_type": "code",
   "execution_count": 27,
   "metadata": {},
   "outputs": [
    {
     "name": "stdout",
     "output_type": "stream",
     "text": [
      "+-------------+------------+-------------------+-------------------+---------------+----+----------------------+-------+\n",
      "|   product_id|machine_name|           start_at|             end_at|errors_quantity|code|double_errors_quantity|isError|\n",
      "+-------------+------------+-------------------+-------------------+---------------+----+----------------------+-------+\n",
      "|PRODUCT_10825| MACHINE_002|2014-12-30 11-46-40|2014-12-30 16-22-10|            4.0|EMAN|                   8.0|   true|\n",
      "|PRODUCT_10222| MACHINE_002|2014-12-12 08-22-48|2014-12-12 09-57-41|            1.0|BPAK|                   2.0|   true|\n",
      "|PRODUCT_13980| MACHINE_002|2015-05-26 10-19-20|2015-05-26 11-05-50|            1.0|BLOK|                   2.0|   true|\n",
      "|PRODUCT_14257| MACHINE_002|2015-06-11 08-56-01|2015-06-11 10-36-17|           60.0|FQCH|                 120.0|   true|\n",
      "| PRODUCT_1947| MACHINE_001|2015-03-01 20-54-49|2015-03-01 18-59-29|           51.0|BLOK|                 102.0|   true|\n",
      "| PRODUCT_2068| MACHINE_001|2015-03-06 06-31-28|2015-03-06 05-46-03|            1.0|BLOK|                   2.0|   true|\n",
      "| PRODUCT_2797| MACHINE_001|2015-03-31 16-18-52|2015-03-31 14-45-10|            1.0|BLOK|                   2.0|   true|\n",
      "|PRODUCT_10814| MACHINE_002|2015-01-04 04-26-51|2015-01-04 05-22-38|            1.0|FQCH|                   2.0|   true|\n",
      "|PRODUCT_12134| MACHINE_002|2015-03-03 20-29-21|2015-03-03 21-51-10|            2.0|EMAN|                   4.0|   true|\n",
      "|  PRODUCT_332| MACHINE_001|2014-12-18 21-25-07|2014-12-18 20-22-48|           48.0|EMAN|                  96.0|   true|\n",
      "|  PRODUCT_332| MACHINE_001|2014-12-18 21-25-07|2014-12-18 20-22-48|            1.0|BPAK|                   2.0|   true|\n",
      "|PRODUCT_11140| MACHINE_002|2015-01-19 00-04-53|2015-01-19 01-38-53|            1.0|BPAK|                   2.0|   true|\n",
      "|PRODUCT_12386| MACHINE_002|2015-03-14 03-22-25|2015-03-14 03-56-04|            1.0|BPAK|                   2.0|   true|\n",
      "|PRODUCT_12627| MACHINE_002|2015-03-22 14-59-48|2015-03-22 16-38-29|            1.0|BLOK|                   2.0|   true|\n",
      "|PRODUCT_12627| MACHINE_002|2015-03-22 14-59-48|2015-03-22 16-38-29|            2.0|EMAN|                   4.0|   true|\n",
      "|PRODUCT_13251| MACHINE_002|2015-04-20 16-54-57|2015-04-20 18-02-28|            1.0|BLOK|                   2.0|   true|\n",
      "| PRODUCT_1482| MACHINE_001|2015-02-04 22-07-11|2015-02-04 20-49-31|            2.0|FQCH|                   4.0|   true|\n",
      "| PRODUCT_3659| MACHINE_001|2015-05-05 13-01-00|2015-05-05 11-42-46|            2.0|FQCH|                   4.0|   true|\n",
      "|PRODUCT_11151| MACHINE_002|2015-01-18 17-27-08|2015-01-18 17-50-23|            4.0|BPAK|                   8.0|   true|\n",
      "|PRODUCT_12795| MACHINE_002|2015-03-30 14-31-30|2015-03-30 15-34-18|            1.0|BLOK|                   2.0|   true|\n",
      "+-------------+------------+-------------------+-------------------+---------------+----+----------------------+-------+\n",
      "only showing top 20 rows\n",
      "\n"
     ]
    }
   ],
   "source": [
    "data.replace(False , True , 'isError').show()"
   ]
  },
  {
   "cell_type": "code",
   "execution_count": 28,
   "metadata": {},
   "outputs": [],
   "source": [
    "data = data.withColumn('isError' , when(col('errors_quantity') >= 96 , True).otherwise(col('isError')))"
   ]
  },
  {
   "cell_type": "code",
   "execution_count": 29,
   "metadata": {},
   "outputs": [
    {
     "name": "stdout",
     "output_type": "stream",
     "text": [
      "+-------------+------------+-------------------+-------------------+---------------+----+----------------------+-------+\n",
      "|   product_id|machine_name|           start_at|             end_at|errors_quantity|code|double_errors_quantity|isError|\n",
      "+-------------+------------+-------------------+-------------------+---------------+----+----------------------+-------+\n",
      "|PRODUCT_10825| MACHINE_002|2014-12-30 11-46-40|2014-12-30 16-22-10|            4.0|EMAN|                   8.0|  false|\n",
      "|PRODUCT_10222| MACHINE_002|2014-12-12 08-22-48|2014-12-12 09-57-41|            1.0|BPAK|                   2.0|  false|\n",
      "|PRODUCT_13980| MACHINE_002|2015-05-26 10-19-20|2015-05-26 11-05-50|            1.0|BLOK|                   2.0|  false|\n",
      "|PRODUCT_14257| MACHINE_002|2015-06-11 08-56-01|2015-06-11 10-36-17|           60.0|FQCH|                 120.0|  false|\n",
      "| PRODUCT_1947| MACHINE_001|2015-03-01 20-54-49|2015-03-01 18-59-29|           51.0|BLOK|                 102.0|  false|\n",
      "| PRODUCT_2068| MACHINE_001|2015-03-06 06-31-28|2015-03-06 05-46-03|            1.0|BLOK|                   2.0|  false|\n",
      "| PRODUCT_2797| MACHINE_001|2015-03-31 16-18-52|2015-03-31 14-45-10|            1.0|BLOK|                   2.0|  false|\n",
      "|PRODUCT_10814| MACHINE_002|2015-01-04 04-26-51|2015-01-04 05-22-38|            1.0|FQCH|                   2.0|  false|\n",
      "|PRODUCT_12134| MACHINE_002|2015-03-03 20-29-21|2015-03-03 21-51-10|            2.0|EMAN|                   4.0|  false|\n",
      "|  PRODUCT_332| MACHINE_001|2014-12-18 21-25-07|2014-12-18 20-22-48|           48.0|EMAN|                  96.0|  false|\n",
      "|  PRODUCT_332| MACHINE_001|2014-12-18 21-25-07|2014-12-18 20-22-48|            1.0|BPAK|                   2.0|  false|\n",
      "|PRODUCT_11140| MACHINE_002|2015-01-19 00-04-53|2015-01-19 01-38-53|            1.0|BPAK|                   2.0|  false|\n",
      "|PRODUCT_12386| MACHINE_002|2015-03-14 03-22-25|2015-03-14 03-56-04|            1.0|BPAK|                   2.0|  false|\n",
      "|PRODUCT_12627| MACHINE_002|2015-03-22 14-59-48|2015-03-22 16-38-29|            1.0|BLOK|                   2.0|  false|\n",
      "|PRODUCT_12627| MACHINE_002|2015-03-22 14-59-48|2015-03-22 16-38-29|            2.0|EMAN|                   4.0|  false|\n",
      "|PRODUCT_13251| MACHINE_002|2015-04-20 16-54-57|2015-04-20 18-02-28|            1.0|BLOK|                   2.0|  false|\n",
      "| PRODUCT_1482| MACHINE_001|2015-02-04 22-07-11|2015-02-04 20-49-31|            2.0|FQCH|                   4.0|  false|\n",
      "| PRODUCT_3659| MACHINE_001|2015-05-05 13-01-00|2015-05-05 11-42-46|            2.0|FQCH|                   4.0|  false|\n",
      "|PRODUCT_11151| MACHINE_002|2015-01-18 17-27-08|2015-01-18 17-50-23|            4.0|BPAK|                   8.0|  false|\n",
      "|PRODUCT_12795| MACHINE_002|2015-03-30 14-31-30|2015-03-30 15-34-18|            1.0|BLOK|                   2.0|  false|\n",
      "+-------------+------------+-------------------+-------------------+---------------+----+----------------------+-------+\n",
      "only showing top 20 rows\n",
      "\n"
     ]
    }
   ],
   "source": [
    "data.show()"
   ]
  },
  {
   "cell_type": "code",
   "execution_count": 30,
   "metadata": {},
   "outputs": [
    {
     "name": "stdout",
     "output_type": "stream",
     "text": [
      "Defective product number : 54\n"
     ]
    }
   ],
   "source": [
    "array_isError_value = [ i.isError for i in data.select('isError').collect()]\n",
    "print(\"Defective product number : {}\".format(sum(array_isError_value)))"
   ]
  },
  {
   "cell_type": "code",
   "execution_count": 31,
   "metadata": {},
   "outputs": [],
   "source": [
    "data_des = data.describe()"
   ]
  },
  {
   "cell_type": "code",
   "execution_count": 32,
   "metadata": {},
   "outputs": [
    {
     "name": "stdout",
     "output_type": "stream",
     "text": [
      "13.121759622937942\n",
      "+-------+-------------+------------+-------------------+-------------------+------------------+----+----------------------+\n",
      "|summary|   product_id|machine_name|           start_at|             end_at|   errors_quantity|code|double_errors_quantity|\n",
      "+-------+-------------+------------+-------------------+-------------------+------------------+----+----------------------+\n",
      "|  count|         1273|        1273|               1273|               1273|              1273|1273|                  1273|\n",
      "|   mean|         null|        null|               null|               null|13.121759622937942|null|    26.243519245875884|\n",
      "| stddev|         null|        null|               null|               null| 23.91609624906151|null|     47.83219249812302|\n",
      "|    min|PRODUCT_10015| MACHINE_001|2014-12-02 03-31-48|2014-12-02 02-11-04|               1.0|BLOK|                   2.0|\n",
      "|    max|  PRODUCT_989| MACHINE_002|2015-07-11 03-23-29|2015-07-11 05-08-32|             111.0|FQCH|                 222.0|\n",
      "+-------+-------------+------------+-------------------+-------------------+------------------+----+----------------------+\n",
      "\n"
     ]
    }
   ],
   "source": [
    "print(data_des.collect()[1].errors_quantity)\n",
    "data_des.show()"
   ]
  },
  {
   "cell_type": "code",
   "execution_count": 33,
   "metadata": {},
   "outputs": [
    {
     "name": "stdout",
     "output_type": "stream",
     "text": [
      "+-------------+------------+-------------------+-------------------+---------------+----+----------------------+-------+\n",
      "|   product_id|machine_name|           start_at|             end_at|errors_quantity|code|double_errors_quantity|isError|\n",
      "+-------------+------------+-------------------+-------------------+---------------+----+----------------------+-------+\n",
      "|PRODUCT_10825| MACHINE_002|2014-12-30 11-46-40|2014-12-30 16-22-10|            4.0|EMAN|                   8.0|   true|\n",
      "|PRODUCT_10222| MACHINE_002|2014-12-12 08-22-48|2014-12-12 09-57-41|            1.0|BPAK|                   2.0|  false|\n",
      "|PRODUCT_13980| MACHINE_002|2015-05-26 10-19-20|2015-05-26 11-05-50|            1.0|BLOK|                   2.0|  false|\n",
      "|PRODUCT_14257| MACHINE_002|2015-06-11 08-56-01|2015-06-11 10-36-17|           60.0|FQCH|                 120.0|  false|\n",
      "| PRODUCT_1947| MACHINE_001|2015-03-01 20-54-49|2015-03-01 18-59-29|           51.0|BLOK|                 102.0|  false|\n",
      "| PRODUCT_2068| MACHINE_001|2015-03-06 06-31-28|2015-03-06 05-46-03|            1.0|BLOK|                   2.0|  false|\n",
      "| PRODUCT_2797| MACHINE_001|2015-03-31 16-18-52|2015-03-31 14-45-10|            1.0|BLOK|                   2.0|  false|\n",
      "|PRODUCT_10814| MACHINE_002|2015-01-04 04-26-51|2015-01-04 05-22-38|            1.0|FQCH|                   2.0|  false|\n",
      "|PRODUCT_12134| MACHINE_002|2015-03-03 20-29-21|2015-03-03 21-51-10|            2.0|EMAN|                   4.0|  false|\n",
      "|  PRODUCT_332| MACHINE_001|2014-12-18 21-25-07|2014-12-18 20-22-48|           48.0|EMAN|                  96.0|  false|\n",
      "|  PRODUCT_332| MACHINE_001|2014-12-18 21-25-07|2014-12-18 20-22-48|            1.0|BPAK|                   2.0|  false|\n",
      "|PRODUCT_11140| MACHINE_002|2015-01-19 00-04-53|2015-01-19 01-38-53|            1.0|BPAK|                   2.0|  false|\n",
      "|PRODUCT_12386| MACHINE_002|2015-03-14 03-22-25|2015-03-14 03-56-04|            1.0|BPAK|                   2.0|  false|\n",
      "|PRODUCT_12627| MACHINE_002|2015-03-22 14-59-48|2015-03-22 16-38-29|            1.0|BLOK|                   2.0|  false|\n",
      "|PRODUCT_12627| MACHINE_002|2015-03-22 14-59-48|2015-03-22 16-38-29|            2.0|EMAN|                   4.0|  false|\n",
      "|PRODUCT_13251| MACHINE_002|2015-04-20 16-54-57|2015-04-20 18-02-28|            1.0|BLOK|                   2.0|  false|\n",
      "| PRODUCT_1482| MACHINE_001|2015-02-04 22-07-11|2015-02-04 20-49-31|            2.0|FQCH|                   4.0|  false|\n",
      "| PRODUCT_3659| MACHINE_001|2015-05-05 13-01-00|2015-05-05 11-42-46|            2.0|FQCH|                   4.0|  false|\n",
      "|PRODUCT_11151| MACHINE_002|2015-01-18 17-27-08|2015-01-18 17-50-23|            4.0|BPAK|                   8.0|  false|\n",
      "|PRODUCT_12795| MACHINE_002|2015-03-30 14-31-30|2015-03-30 15-34-18|            1.0|BLOK|                   2.0|  false|\n",
      "+-------------+------------+-------------------+-------------------+---------------+----+----------------------+-------+\n",
      "only showing top 20 rows\n",
      "\n"
     ]
    }
   ],
   "source": [
    "data.withColumn('isError' , when(col('product_id') == 'PRODUCT_10825' , True).otherwise(col('isError'))).show()"
   ]
  },
  {
   "cell_type": "code",
   "execution_count": 34,
   "metadata": {
    "scrolled": true
   },
   "outputs": [
    {
     "name": "stdout",
     "output_type": "stream",
     "text": [
      "+----+------------+-------------------+-------------------+-------------+\n",
      "| _c0|machine_name|            in_time|           out_time|   product_id|\n",
      "+----+------------+-------------------+-------------------+-------------+\n",
      "| 134| MACHINE_002|2014-12-08 03-48-14|2014-12-08 04-45-52|PRODUCT_10134|\n",
      "| 732| MACHINE_002|2015-01-01 15-16-18|2015-01-01 16-19-21|PRODUCT_10732|\n",
      "| 825| MACHINE_002|2014-12-30 11-46-40|2014-12-30 16-22-10|PRODUCT_10825|\n",
      "|1212| MACHINE_002|2015-01-21 17-46-07|2015-01-21 18-36-21|PRODUCT_11212|\n",
      "|1303| MACHINE_002|2015-01-25 02-56-31|2015-01-25 03-41-39|PRODUCT_11303|\n",
      "|1541| MACHINE_002|2015-02-04 09-00-25|2015-02-04 10-00-20|PRODUCT_11541|\n",
      "|2255| MACHINE_002|2015-03-08 23-48-55|2015-03-09 01-03-15|PRODUCT_12255|\n",
      "|2409| MACHINE_002|2015-03-14 16-02-40|2015-03-14 16-41-51|PRODUCT_12409|\n",
      "|2440| MACHINE_002|2015-03-15 15-20-39|2015-03-15 16-00-45|PRODUCT_12440|\n",
      "|3159| MACHINE_002|2015-04-17 02-42-38|2015-04-17 03-16-50|PRODUCT_13159|\n",
      "|3881| MACHINE_002|2015-05-21 12-29-40|2015-05-21 14-56-06|PRODUCT_13881|\n",
      "|4239| MACHINE_002|2015-06-10 04-09-05|2015-06-10 05-41-07|PRODUCT_14239|\n",
      "|4302| MACHINE_002|2015-06-13 03-03-53|2015-06-13 03-43-52|PRODUCT_14302|\n",
      "|4513| MACHINE_002|2015-06-23 15-42-51|2015-06-23 17-57-26|PRODUCT_14513|\n",
      "|4519| MACHINE_002|2015-06-24 06-15-39|2015-06-24 07-01-23|PRODUCT_14519|\n",
      "|4537| MACHINE_002|2015-06-24 18-57-00|2015-06-24 20-20-34|PRODUCT_14537|\n",
      "|  53| MACHINE_001|2014-12-05 00-14-15|2014-12-04 23-38-00|   PRODUCT_54|\n",
      "|  88| MACHINE_001|2014-12-07 08-58-06|2014-12-07 08-35-34|   PRODUCT_89|\n",
      "| 155| MACHINE_001|2014-12-11 04-38-51|2014-12-11 04-06-14|  PRODUCT_156|\n",
      "| 475| MACHINE_001|2014-12-25 03-43-55|2014-12-25 03-02-57|  PRODUCT_476|\n",
      "+----+------------+-------------------+-------------------+-------------+\n",
      "only showing top 20 rows\n",
      "\n"
     ]
    }
   ],
   "source": [
    "data_product.show()"
   ]
  },
  {
   "cell_type": "code",
   "execution_count": 35,
   "metadata": {},
   "outputs": [
    {
     "name": "stdout",
     "output_type": "stream",
     "text": [
      "+------------+-------------------+-------------------+-------------+\n",
      "|machine_name|            in_time|           out_time|   product_id|\n",
      "+------------+-------------------+-------------------+-------------+\n",
      "| MACHINE_002|2014-12-08 03-48-14|2014-12-08 04-45-52|PRODUCT_10134|\n",
      "| MACHINE_002|2015-01-01 15-16-18|2015-01-01 16-19-21|PRODUCT_10732|\n",
      "| MACHINE_002|2014-12-30 11-46-40|2014-12-30 16-22-10|PRODUCT_10825|\n",
      "| MACHINE_002|2015-01-21 17-46-07|2015-01-21 18-36-21|PRODUCT_11212|\n",
      "| MACHINE_002|2015-01-25 02-56-31|2015-01-25 03-41-39|PRODUCT_11303|\n",
      "| MACHINE_002|2015-02-04 09-00-25|2015-02-04 10-00-20|PRODUCT_11541|\n",
      "| MACHINE_002|2015-03-08 23-48-55|2015-03-09 01-03-15|PRODUCT_12255|\n",
      "| MACHINE_002|2015-03-14 16-02-40|2015-03-14 16-41-51|PRODUCT_12409|\n",
      "| MACHINE_002|2015-03-15 15-20-39|2015-03-15 16-00-45|PRODUCT_12440|\n",
      "| MACHINE_002|2015-04-17 02-42-38|2015-04-17 03-16-50|PRODUCT_13159|\n",
      "| MACHINE_002|2015-05-21 12-29-40|2015-05-21 14-56-06|PRODUCT_13881|\n",
      "| MACHINE_002|2015-06-10 04-09-05|2015-06-10 05-41-07|PRODUCT_14239|\n",
      "| MACHINE_002|2015-06-13 03-03-53|2015-06-13 03-43-52|PRODUCT_14302|\n",
      "| MACHINE_002|2015-06-23 15-42-51|2015-06-23 17-57-26|PRODUCT_14513|\n",
      "| MACHINE_002|2015-06-24 06-15-39|2015-06-24 07-01-23|PRODUCT_14519|\n",
      "| MACHINE_002|2015-06-24 18-57-00|2015-06-24 20-20-34|PRODUCT_14537|\n",
      "| MACHINE_001|2014-12-05 00-14-15|2014-12-04 23-38-00|   PRODUCT_54|\n",
      "| MACHINE_001|2014-12-07 08-58-06|2014-12-07 08-35-34|   PRODUCT_89|\n",
      "| MACHINE_001|2014-12-11 04-38-51|2014-12-11 04-06-14|  PRODUCT_156|\n",
      "| MACHINE_001|2014-12-25 03-43-55|2014-12-25 03-02-57|  PRODUCT_476|\n",
      "+------------+-------------------+-------------------+-------------+\n",
      "only showing top 20 rows\n",
      "\n"
     ]
    }
   ],
   "source": [
    "data_product = data_product.drop('_c0')\n",
    "data_product.show()"
   ]
  },
  {
   "cell_type": "code",
   "execution_count": 36,
   "metadata": {},
   "outputs": [
    {
     "name": "stdout",
     "output_type": "stream",
     "text": [
      "+------------+-------------+-------------------+-------------------+\n",
      "|machine_name|   product_id|           start_at|             end_at|\n",
      "+------------+-------------+-------------------+-------------------+\n",
      "| MACHINE_002|PRODUCT_10134|2014-12-08 03:48:14|2014-12-08 04:45:52|\n",
      "| MACHINE_002|PRODUCT_10732|2015-01-01 15:16:18|2015-01-01 16:19:21|\n",
      "| MACHINE_002|PRODUCT_10825|2014-12-30 11:46:40|2014-12-30 16:22:10|\n",
      "| MACHINE_002|PRODUCT_11212|2015-01-21 17:46:07|2015-01-21 18:36:21|\n",
      "| MACHINE_002|PRODUCT_11303|2015-01-25 02:56:31|2015-01-25 03:41:39|\n",
      "| MACHINE_002|PRODUCT_11541|2015-02-04 09:00:25|2015-02-04 10:00:20|\n",
      "| MACHINE_002|PRODUCT_12255|2015-03-08 23:48:55|2015-03-09 01:03:15|\n",
      "| MACHINE_002|PRODUCT_12409|2015-03-14 16:02:40|2015-03-14 16:41:51|\n",
      "| MACHINE_002|PRODUCT_12440|2015-03-15 15:20:39|2015-03-15 16:00:45|\n",
      "| MACHINE_002|PRODUCT_13159|2015-04-17 02:42:38|2015-04-17 03:16:50|\n",
      "| MACHINE_002|PRODUCT_13881|2015-05-21 12:29:40|2015-05-21 14:56:06|\n",
      "| MACHINE_002|PRODUCT_14239|2015-06-10 04:09:05|2015-06-10 05:41:07|\n",
      "| MACHINE_002|PRODUCT_14302|2015-06-13 03:03:53|2015-06-13 03:43:52|\n",
      "| MACHINE_002|PRODUCT_14513|2015-06-23 15:42:51|2015-06-23 17:57:26|\n",
      "| MACHINE_002|PRODUCT_14519|2015-06-24 06:15:39|2015-06-24 07:01:23|\n",
      "| MACHINE_002|PRODUCT_14537|2015-06-24 18:57:00|2015-06-24 20:20:34|\n",
      "| MACHINE_001|   PRODUCT_54|2014-12-05 00:14:15|2014-12-04 23:38:00|\n",
      "| MACHINE_001|   PRODUCT_89|2014-12-07 08:58:06|2014-12-07 08:35:34|\n",
      "| MACHINE_001|  PRODUCT_156|2014-12-11 04:38:51|2014-12-11 04:06:14|\n",
      "| MACHINE_001|  PRODUCT_476|2014-12-25 03:43:55|2014-12-25 03:02:57|\n",
      "+------------+-------------+-------------------+-------------------+\n",
      "only showing top 20 rows\n",
      "\n"
     ]
    }
   ],
   "source": [
    "data_product = data_product.select('machine_name', 'product_id' , \\\n",
    "                    to_timestamp(data_product['in_time'],'yyyy-MM-dd HH-mm-ss').alias('start_at'), \\\n",
    "                    to_timestamp(data_product['out_time'],'yyyy-MM-dd HH-mm-ss').alias('end_at'))\n",
    "data_product.show()"
   ]
  },
  {
   "cell_type": "code",
   "execution_count": 37,
   "metadata": {},
   "outputs": [
    {
     "name": "stdout",
     "output_type": "stream",
     "text": [
      "root\n",
      " |-- machine_name: string (nullable = true)\n",
      " |-- product_id: string (nullable = true)\n",
      " |-- start_at: timestamp (nullable = true)\n",
      " |-- end_at: timestamp (nullable = true)\n",
      "\n"
     ]
    }
   ],
   "source": [
    "data_product.printSchema()"
   ]
  },
  {
   "cell_type": "code",
   "execution_count": 39,
   "metadata": {},
   "outputs": [],
   "source": [
    "\n",
    "data_product.registerTempTable(\"data_product_1\")\n",
    "data_product.registerTempTable(\"data_product_2\")"
   ]
  },
  {
   "cell_type": "code",
   "execution_count": 43,
   "metadata": {},
   "outputs": [
    {
     "name": "stdout",
     "output_type": "stream",
     "text": [
      "+------------+-------------+-------------------+-------------------+\n",
      "|machine_name|   product_id|           start_at|             end_at|\n",
      "+------------+-------------+-------------------+-------------------+\n",
      "| MACHINE_002|PRODUCT_10134|2014-12-08 03:48:14|2014-12-08 04:45:52|\n",
      "| MACHINE_002|PRODUCT_10732|2015-01-01 15:16:18|2015-01-01 16:19:21|\n",
      "| MACHINE_002|PRODUCT_10825|2014-12-30 11:46:40|2014-12-30 16:22:10|\n",
      "| MACHINE_002|PRODUCT_11212|2015-01-21 17:46:07|2015-01-21 18:36:21|\n",
      "| MACHINE_002|PRODUCT_11303|2015-01-25 02:56:31|2015-01-25 03:41:39|\n",
      "| MACHINE_002|PRODUCT_11541|2015-02-04 09:00:25|2015-02-04 10:00:20|\n",
      "| MACHINE_002|PRODUCT_12255|2015-03-08 23:48:55|2015-03-09 01:03:15|\n",
      "| MACHINE_002|PRODUCT_12409|2015-03-14 16:02:40|2015-03-14 16:41:51|\n",
      "| MACHINE_002|PRODUCT_12440|2015-03-15 15:20:39|2015-03-15 16:00:45|\n",
      "| MACHINE_002|PRODUCT_13159|2015-04-17 02:42:38|2015-04-17 03:16:50|\n",
      "| MACHINE_002|PRODUCT_13881|2015-05-21 12:29:40|2015-05-21 14:56:06|\n",
      "| MACHINE_002|PRODUCT_14239|2015-06-10 04:09:05|2015-06-10 05:41:07|\n",
      "| MACHINE_002|PRODUCT_14302|2015-06-13 03:03:53|2015-06-13 03:43:52|\n",
      "| MACHINE_002|PRODUCT_14513|2015-06-23 15:42:51|2015-06-23 17:57:26|\n",
      "| MACHINE_002|PRODUCT_14519|2015-06-24 06:15:39|2015-06-24 07:01:23|\n",
      "| MACHINE_002|PRODUCT_14537|2015-06-24 18:57:00|2015-06-24 20:20:34|\n",
      "| MACHINE_002|PRODUCT_10170|2014-12-10 06:34:49|2014-12-10 07:35:39|\n",
      "| MACHINE_002|PRODUCT_10188|2014-12-10 16:07:37|2014-12-10 16:46:07|\n",
      "| MACHINE_002|PRODUCT_10222|2014-12-12 08:22:48|2014-12-12 09:57:41|\n",
      "| MACHINE_002|PRODUCT_10419|2014-12-19 19:54:26|2014-12-19 20:50:30|\n",
      "+------------+-------------+-------------------+-------------------+\n",
      "only showing top 20 rows\n",
      "\n"
     ]
    }
   ],
   "source": [
    "spark_sql.sql(\"SELECT dp1.machine_name ,dp1.product_id , dp1.start_at , dp1.end_at FROM data_product_1 as dp1 join data_product_2 as dp2 on dp1.product_id = dp2.product_id\").show()"
   ]
  },
  {
   "cell_type": "code",
   "execution_count": 44,
   "metadata": {},
   "outputs": [
    {
     "name": "stdout",
     "output_type": "stream",
     "text": [
      "+------------+-------------+-------------------+-------------------+------------+\n",
      "|machine_name|   product_id|           start_at|             end_at|checkOverlap|\n",
      "+------------+-------------+-------------------+-------------------+------------+\n",
      "| MACHINE_002|PRODUCT_10010|2014-12-01 21:28:45|2014-12-01 22:02:35|           1|\n",
      "| MACHINE_002|PRODUCT_10011|2014-12-01 22:02:43|2014-12-01 22:52:56|           1|\n",
      "| MACHINE_002|PRODUCT_10012|2014-12-01 22:53:08|2014-12-01 23:39:59|           1|\n",
      "| MACHINE_002|PRODUCT_10001|2014-12-01 23:40:12|2014-12-02 00:42:36|           1|\n",
      "| MACHINE_002|PRODUCT_10000|2014-12-02 00:42:46|2014-12-02 01:47:57|           1|\n",
      "| MACHINE_002|PRODUCT_10006|2014-12-02 01:48:07|2014-12-02 03:22:55|           1|\n",
      "| MACHINE_002|PRODUCT_10005|2014-12-02 03:23:05|2014-12-02 04:40:40|           1|\n",
      "| MACHINE_002|PRODUCT_10003|2014-12-02 04:40:50|2014-12-02 05:39:32|           1|\n",
      "| MACHINE_002|PRODUCT_10007|2014-12-02 05:39:41|2014-12-02 06:58:17|           1|\n",
      "| MACHINE_002|PRODUCT_10013|2014-12-02 07:15:59|2014-12-02 09:39:41|           1|\n",
      "| MACHINE_002|PRODUCT_10002|2014-12-02 09:39:49|2014-12-02 12:56:12|           1|\n",
      "| MACHINE_002|PRODUCT_10009|2014-12-02 12:56:21|2014-12-02 14:06:47|           1|\n",
      "| MACHINE_002|PRODUCT_10008|2014-12-02 14:08:17|2014-12-02 15:25:18|           1|\n",
      "| MACHINE_002|PRODUCT_10004|2014-12-02 15:25:44|2014-12-02 16:58:26|           1|\n",
      "| MACHINE_002|PRODUCT_10034|2014-12-02 16:58:34|2014-12-02 18:29:09|           1|\n",
      "| MACHINE_002|PRODUCT_10049|2014-12-02 21:16:01|2014-12-02 22:23:19|           1|\n",
      "| MACHINE_002|PRODUCT_10051|2014-12-02 22:24:11|2014-12-02 23:24:57|           1|\n",
      "| MACHINE_002|PRODUCT_10035|2014-12-02 23:26:53|2014-12-03 00:13:43|           1|\n",
      "| MACHINE_002|PRODUCT_10041|2014-12-03 00:13:52|2014-12-03 01:10:40|           1|\n",
      "| MACHINE_002|PRODUCT_10046|2014-12-03 01:10:49|2014-12-03 02:00:18|           1|\n",
      "+------------+-------------+-------------------+-------------------+------------+\n",
      "only showing top 20 rows\n",
      "\n",
      "root\n",
      " |-- machine_name: string (nullable = true)\n",
      " |-- product_id: string (nullable = true)\n",
      " |-- start_at: timestamp (nullable = true)\n",
      " |-- end_at: timestamp (nullable = true)\n",
      " |-- checkOverlap: integer (nullable = false)\n",
      "\n"
     ]
    }
   ],
   "source": [
    "data_product.show()\n",
    "data_product.printSchema()"
   ]
  },
  {
   "cell_type": "code",
   "execution_count": 50,
   "metadata": {},
   "outputs": [
    {
     "name": "stdout",
     "output_type": "stream",
     "text": [
      "+------------+-------------+-------------------+-------------------+------------+----------+\n",
      "|machine_name|   product_id|           start_at|             end_at|checkOverlap|hours_done|\n",
      "+------------+-------------+-------------------+-------------------+------------+----------+\n",
      "| MACHINE_002|PRODUCT_10010|2014-12-01 21:28:45|2014-12-01 22:02:35|           1|   21 - 22|\n",
      "| MACHINE_002|PRODUCT_10011|2014-12-01 22:02:43|2014-12-01 22:52:56|           1|   22 - 22|\n",
      "| MACHINE_002|PRODUCT_10012|2014-12-01 22:53:08|2014-12-01 23:39:59|           1|   22 - 23|\n",
      "| MACHINE_002|PRODUCT_10001|2014-12-01 23:40:12|2014-12-02 00:42:36|           1|    23 - 0|\n",
      "| MACHINE_002|PRODUCT_10000|2014-12-02 00:42:46|2014-12-02 01:47:57|           1|     0 - 1|\n",
      "| MACHINE_002|PRODUCT_10006|2014-12-02 01:48:07|2014-12-02 03:22:55|           1|     1 - 3|\n",
      "| MACHINE_002|PRODUCT_10005|2014-12-02 03:23:05|2014-12-02 04:40:40|           1|     3 - 4|\n",
      "| MACHINE_002|PRODUCT_10003|2014-12-02 04:40:50|2014-12-02 05:39:32|           1|     4 - 5|\n",
      "| MACHINE_002|PRODUCT_10007|2014-12-02 05:39:41|2014-12-02 06:58:17|           1|     5 - 6|\n",
      "| MACHINE_002|PRODUCT_10013|2014-12-02 07:15:59|2014-12-02 09:39:41|           1|     7 - 9|\n",
      "| MACHINE_002|PRODUCT_10002|2014-12-02 09:39:49|2014-12-02 12:56:12|           1|    9 - 12|\n",
      "| MACHINE_002|PRODUCT_10009|2014-12-02 12:56:21|2014-12-02 14:06:47|           1|   12 - 14|\n",
      "| MACHINE_002|PRODUCT_10008|2014-12-02 14:08:17|2014-12-02 15:25:18|           1|   14 - 15|\n",
      "| MACHINE_002|PRODUCT_10004|2014-12-02 15:25:44|2014-12-02 16:58:26|           1|   15 - 16|\n",
      "| MACHINE_002|PRODUCT_10034|2014-12-02 16:58:34|2014-12-02 18:29:09|           1|   16 - 18|\n",
      "| MACHINE_002|PRODUCT_10049|2014-12-02 21:16:01|2014-12-02 22:23:19|           1|   21 - 22|\n",
      "| MACHINE_002|PRODUCT_10051|2014-12-02 22:24:11|2014-12-02 23:24:57|           1|   22 - 23|\n",
      "| MACHINE_002|PRODUCT_10035|2014-12-02 23:26:53|2014-12-03 00:13:43|           1|    23 - 0|\n",
      "| MACHINE_002|PRODUCT_10041|2014-12-03 00:13:52|2014-12-03 01:10:40|           1|     0 - 1|\n",
      "| MACHINE_002|PRODUCT_10046|2014-12-03 01:10:49|2014-12-03 02:00:18|           1|     1 - 2|\n",
      "+------------+-------------+-------------------+-------------------+------------+----------+\n",
      "only showing top 20 rows\n",
      "\n"
     ]
    }
   ],
   "source": [
    "udfYearExtract = udf(lambda x , y  : \"{} - {}\".format(datetime.strptime(str(x), '%Y-%m-%d %H:%M:%S').hour , datetime.strptime(str(y), '%Y-%m-%d %H:%M:%S').hour) , StringType())\n",
    "data_product = data_product.withColumn(\"hours_done\" , udfYearExtract(\"start_at\" , \"end_at\"))\n",
    "data_product.show()"
   ]
  },
  {
   "cell_type": "code",
   "execution_count": null,
   "metadata": {},
   "outputs": [],
   "source": [
    "spark_sql.stop()"
   ]
  }
 ],
 "metadata": {
  "kernelspec": {
   "display_name": "Python 3 (ipykernel)",
   "language": "python",
   "name": "python3"
  },
  "language_info": {
   "codemirror_mode": {
    "name": "ipython",
    "version": 3
   },
   "file_extension": ".py",
   "mimetype": "text/x-python",
   "name": "python",
   "nbconvert_exporter": "python",
   "pygments_lexer": "ipython3",
   "version": "3.10.4"
  }
 },
 "nbformat": 4,
 "nbformat_minor": 4
}
