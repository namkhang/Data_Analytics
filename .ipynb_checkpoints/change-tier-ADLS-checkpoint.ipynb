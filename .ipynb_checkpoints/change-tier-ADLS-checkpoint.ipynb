{
 "cells": [
  {
   "cell_type": "code",
   "execution_count": 51,
   "id": "d98b491c-b027-479e-92d5-f64e5deab3a4",
   "metadata": {},
   "outputs": [],
   "source": [
    "import subprocess\n",
    "import pandas as pd\n",
    "from azure.cli.core import get_default_cli"
   ]
  },
  {
   "cell_type": "code",
   "execution_count": 52,
   "id": "c3d17624-5e45-4614-9290-8841bb69a03f",
   "metadata": {},
   "outputs": [
    {
     "data": {
      "text/html": [
       "<div>\n",
       "<style scoped>\n",
       "    .dataframe tbody tr th:only-of-type {\n",
       "        vertical-align: middle;\n",
       "    }\n",
       "\n",
       "    .dataframe tbody tr th {\n",
       "        vertical-align: top;\n",
       "    }\n",
       "\n",
       "    .dataframe thead th {\n",
       "        text-align: right;\n",
       "    }\n",
       "</style>\n",
       "<table border=\"1\" class=\"dataframe\">\n",
       "  <thead>\n",
       "    <tr style=\"text-align: right;\">\n",
       "      <th></th>\n",
       "      <th>filename</th>\n",
       "    </tr>\n",
       "  </thead>\n",
       "  <tbody>\n",
       "    <tr>\n",
       "      <th>0</th>\n",
       "      <td>SD2310121937551-802303-SD9</td>\n",
       "    </tr>\n",
       "    <tr>\n",
       "      <th>1</th>\n",
       "      <td>SD2310122020101-802305-SD8</td>\n",
       "    </tr>\n",
       "    <tr>\n",
       "      <th>2</th>\n",
       "      <td>SD2310122020101-802305-SD9</td>\n",
       "    </tr>\n",
       "    <tr>\n",
       "      <th>3</th>\n",
       "      <td>SD2310122102191-802303-SD8</td>\n",
       "    </tr>\n",
       "    <tr>\n",
       "      <th>4</th>\n",
       "      <td>SD2310122102191-802303-SD9</td>\n",
       "    </tr>\n",
       "    <tr>\n",
       "      <th>5</th>\n",
       "      <td>SD2310122124191-802301-SD8</td>\n",
       "    </tr>\n",
       "    <tr>\n",
       "      <th>6</th>\n",
       "      <td>SD2310122124191-802301-SD9</td>\n",
       "    </tr>\n",
       "    <tr>\n",
       "      <th>7</th>\n",
       "      <td>SD2310122131291-802302-SD8</td>\n",
       "    </tr>\n",
       "    <tr>\n",
       "      <th>8</th>\n",
       "      <td>SD2310122131291-802302-SD9</td>\n",
       "    </tr>\n",
       "    <tr>\n",
       "      <th>9</th>\n",
       "      <td>SD2310122135581-802304-SD8</td>\n",
       "    </tr>\n",
       "    <tr>\n",
       "      <th>10</th>\n",
       "      <td>SD2310122135581-802304-SD9</td>\n",
       "    </tr>\n",
       "    <tr>\n",
       "      <th>11</th>\n",
       "      <td>SD2310122235460-802301-SD8</td>\n",
       "    </tr>\n",
       "    <tr>\n",
       "      <th>12</th>\n",
       "      <td>SD2310122235460-802301-SD9</td>\n",
       "    </tr>\n",
       "    <tr>\n",
       "      <th>13</th>\n",
       "      <td>SD2310122301490-802303-SD8</td>\n",
       "    </tr>\n",
       "  </tbody>\n",
       "</table>\n",
       "</div>"
      ],
      "text/plain": [
       "                      filename\n",
       "0   SD2310121937551-802303-SD9\n",
       "1   SD2310122020101-802305-SD8\n",
       "2   SD2310122020101-802305-SD9\n",
       "3   SD2310122102191-802303-SD8\n",
       "4   SD2310122102191-802303-SD9\n",
       "5   SD2310122124191-802301-SD8\n",
       "6   SD2310122124191-802301-SD9\n",
       "7   SD2310122131291-802302-SD8\n",
       "8   SD2310122131291-802302-SD9\n",
       "9   SD2310122135581-802304-SD8\n",
       "10  SD2310122135581-802304-SD9\n",
       "11  SD2310122235460-802301-SD8\n",
       "12  SD2310122235460-802301-SD9\n",
       "13  SD2310122301490-802303-SD8"
      ]
     },
     "execution_count": 52,
     "metadata": {},
     "output_type": "execute_result"
    }
   ],
   "source": [
    "df = pd.read_csv(\"file-need-change-tier-ADLS.csv\")\n",
    "df"
   ]
  },
  {
   "cell_type": "code",
   "execution_count": 53,
   "id": "2d70cc67-800f-4005-94cc-ece17454430e",
   "metadata": {},
   "outputs": [
    {
     "name": "stdout",
     "output_type": "stream",
     "text": [
      "SD2310121937551-802303-SD9\n",
      "SD2310122020101-802305-SD8\n",
      "SD2310122020101-802305-SD9\n",
      "SD2310122102191-802303-SD8\n",
      "SD2310122102191-802303-SD9\n",
      "SD2310122124191-802301-SD8\n",
      "SD2310122124191-802301-SD9\n",
      "SD2310122131291-802302-SD8\n",
      "SD2310122131291-802302-SD9\n",
      "SD2310122135581-802304-SD8\n",
      "SD2310122135581-802304-SD9\n",
      "SD2310122235460-802301-SD8\n",
      "SD2310122235460-802301-SD9\n",
      "SD2310122301490-802303-SD8\n"
     ]
    }
   ],
   "source": [
    "for i in range(len(df)):\n",
    "    print(df.iloc[i,0])\n",
    "    command = f'storage blob set-tier --account-name hrlukshfmtprorg02pentaho --container-name pentaho --name landing/IEPTPE/SD/datafiles/{df.iloc[i,0]} --tier Cold'\n",
    "    command = command.split(\" \")\n",
    "    command.insert(0 , 'C:/Program Files/Microsoft SDKs/Azure/CLI2/wbin/az.cmd')\n",
    "    result = subprocess.run(command, check=True, capture_output=True, text=True)\n",
    "    result"
   ]
  },
  {
   "cell_type": "code",
   "execution_count": 45,
   "id": "3c0619d4-aace-4f13-bd88-2fda28ca90ac",
   "metadata": {},
   "outputs": [
    {
     "data": {
      "text/plain": [
       "['C:/Program Files/Microsoft SDKs/Azure/CLI2/wbin/az.cmd',\n",
       " 'az',\n",
       " 'storage',\n",
       " 'blob',\n",
       " 'set-tier',\n",
       " '--account-name',\n",
       " 'hrlukshfmtprorg02pentaho',\n",
       " '--container-name',\n",
       " 'pentaho',\n",
       " '--name',\n",
       " '/landing/IEPHT/SD/datafiles/SD2308131923120-802304-SD8',\n",
       " '--tier',\n",
       " 'Cold']"
      ]
     },
     "execution_count": 45,
     "metadata": {},
     "output_type": "execute_result"
    }
   ],
   "source": []
  },
  {
   "cell_type": "code",
   "execution_count": null,
   "id": "8bf4d310-b955-4551-adf4-8ccb1938922d",
   "metadata": {},
   "outputs": [],
   "source": []
  },
  {
   "cell_type": "code",
   "execution_count": 42,
   "id": "83ad845c-09bd-4fdc-b22d-970c32db8274",
   "metadata": {},
   "outputs": [],
   "source": []
  },
  {
   "cell_type": "code",
   "execution_count": null,
   "id": "b42f88b2-0e57-43f6-8013-4f29b6dc6508",
   "metadata": {},
   "outputs": [],
   "source": []
  },
  {
   "cell_type": "code",
   "execution_count": null,
   "id": "cbb4b3c4-005f-4822-a414-6cd08631de04",
   "metadata": {},
   "outputs": [],
   "source": []
  },
  {
   "cell_type": "code",
   "execution_count": null,
   "id": "153d0a89-43b9-4f56-b66d-3fd2c99f197f",
   "metadata": {},
   "outputs": [],
   "source": []
  },
  {
   "cell_type": "code",
   "execution_count": null,
   "id": "d37bb991-b674-4243-a156-9c53c05ad5ea",
   "metadata": {},
   "outputs": [],
   "source": [
    "# az storage blob set-tier --account-name hrlukshfmtprorg02pentaho --container-name pentaho --name /landing/IEPGW/SD/datafiles/SD2407080105540-800023-SD8 --tier Cold"
   ]
  },
  {
   "cell_type": "code",
   "execution_count": null,
   "id": "7959b06d-2c34-4166-aeae-210489364ec3",
   "metadata": {},
   "outputs": [],
   "source": [
    "# az storage blob list  --account-name hrlukshfmtprorg02pentaho  --container-name pentaho  --prefix landing/IEPHT/SD/datafiles/ --query \"[?contains(name, 'SD8') || contains(name, 'SD9')].name\"  -o tsv"
   ]
  },
  {
   "cell_type": "code",
   "execution_count": null,
   "id": "c099f536-4114-4569-a9c2-55f26a1e014c",
   "metadata": {},
   "outputs": [],
   "source": []
  },
  {
   "cell_type": "code",
   "execution_count": null,
   "id": "6ba905b7-7e01-4a7e-9123-119fbb67f999",
   "metadata": {},
   "outputs": [],
   "source": []
  },
  {
   "cell_type": "code",
   "execution_count": null,
   "id": "16617336-5eb7-4f6c-9294-1b6912a32c1a",
   "metadata": {},
   "outputs": [],
   "source": []
  }
 ],
 "metadata": {
  "kernelspec": {
   "display_name": "Python 3 (ipykernel)",
   "language": "python",
   "name": "python3"
  },
  "language_info": {
   "codemirror_mode": {
    "name": "ipython",
    "version": 3
   },
   "file_extension": ".py",
   "mimetype": "text/x-python",
   "name": "python",
   "nbconvert_exporter": "python",
   "pygments_lexer": "ipython3",
   "version": "3.10.4"
  }
 },
 "nbformat": 4,
 "nbformat_minor": 5
}
