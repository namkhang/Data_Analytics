{
 "cells": [
  {
   "cell_type": "code",
   "execution_count": 18,
   "id": "d69489bf-ae32-4ca3-8c36-e56bf410278d",
   "metadata": {},
   "outputs": [],
   "source": [
    "import requests\n",
    "from bs4 import BeautifulSoup\n",
    "import paramiko\n",
    "import time"
   ]
  },
  {
   "cell_type": "code",
   "execution_count": 19,
   "id": "9d19b91b-6820-42aa-91f1-cf7c04e37f3d",
   "metadata": {},
   "outputs": [
    {
     "data": {
      "text/plain": [
       "<Response [200]>"
      ]
     },
     "execution_count": 19,
     "metadata": {},
     "output_type": "execute_result"
    }
   ],
   "source": [
    "url = 'http://pre-spark-01-swi.hitt.hre.local:8080/'\n",
    "response = requests.get(url)\n",
    "response"
   ]
  },
  {
   "cell_type": "code",
   "execution_count": 20,
   "id": "bd42e33b-49ab-41fe-b0eb-f2b76f39a1e6",
   "metadata": {},
   "outputs": [
    {
     "data": {
      "text/plain": [
       "<table class=\"table table-bordered table-condensed table-striped sortable\">\n",
       "<thead><th class=\"\" width=\"\">Worker Id</th><th class=\"\" width=\"\">Address</th><th class=\"\" width=\"\">State</th><th class=\"\" width=\"\">Cores</th><th class=\"\" width=\"\">Memory</th></thead>\n",
       "<tbody>\n",
       "<tr>\n",
       "<td>\n",
       "<a href=\"http://172.31.52.36:8082\">\n",
       "              worker-20240403122225-172.31.52.36-40291\n",
       "            </a>\n",
       "</td>\n",
       "<td>172.31.52.36:40291</td>\n",
       "<td>ALIVE</td>\n",
       "<td>35 (10 Used)</td>\n",
       "<td sorttable_customkey=\"43949.15360\">\n",
       "        42.9 GB\n",
       "        (15.0 GB Used)\n",
       "      </td>\n",
       "</tr><tr>\n",
       "<td>\n",
       "        worker-20240403122236-172.31.52.37-33231\n",
       "      </td>\n",
       "<td>172.31.52.37:33231</td>\n",
       "<td>DEAD</td>\n",
       "<td>35 (0 Used)</td>\n",
       "<td sorttable_customkey=\"43949.0\">\n",
       "        42.9 GB\n",
       "        (0.0 B Used)\n",
       "      </td>\n",
       "</tr><tr>\n",
       "<td>\n",
       "<a href=\"http://172.31.52.38:8082\">\n",
       "              worker-20240403122244-172.31.52.38-44719\n",
       "            </a>\n",
       "</td>\n",
       "<td>172.31.52.38:44719</td>\n",
       "<td>ALIVE</td>\n",
       "<td>35 (10 Used)</td>\n",
       "<td sorttable_customkey=\"43949.10240\">\n",
       "        42.9 GB\n",
       "        (10.0 GB Used)\n",
       "      </td>\n",
       "</tr>\n",
       "</tbody>\n",
       "</table>"
      ]
     },
     "execution_count": 20,
     "metadata": {},
     "output_type": "execute_result"
    }
   ],
   "source": [
    "streaming_page_data = BeautifulSoup(response.text, 'html.parser')\n",
    "table = streaming_page_data.find('table',  class_ =  \"table table-bordered table-condensed table-striped sortable\")\n",
    "table"
   ]
  },
  {
   "cell_type": "code",
   "execution_count": 21,
   "id": "813cb8c0-9132-4244-bc14-223c7efe706d",
   "metadata": {},
   "outputs": [
    {
     "name": "stdout",
     "output_type": "stream",
     "text": [
      "172.31.52.37\n",
      "sh /data/core-app/spark-2.4.1-bin-hadoop2.6/sbin/start-slave.sh spark://pre-spark-01-swi.hitt.hre.local:7077,pre-spark-02-swi.hitt.hre.local:7077,pre-spark-03-swi.hitt.hre.local:7077\n"
     ]
    }
   ],
   "source": [
    "data = []\n",
    "port = 22\n",
    "username = 'pre-ansible-core'\n",
    "password = '+Ch3esePle4s3!' \n",
    "for row in table.find_all('tr'):\n",
    "    cells = row.find_all('td')\n",
    "    if cells: \n",
    "        data_row = [cell.text.strip() for cell in cells]\n",
    "        data.append(data_row)\n",
    "check_list = []\n",
    "for row in data:\n",
    "    if  row[1].split(\":\")[0] not in check_list:\n",
    "        if row[2] != \"ALIVE\":\n",
    "                ssh = paramiko.SSHClient()\n",
    "                ssh.set_missing_host_key_policy(paramiko.AutoAddPolicy())\n",
    "                try:\n",
    "                    hostname = row[1].split(\":\")[0]\n",
    "                    print(hostname)\n",
    "                    ssh.connect(hostname, port, username, password)\n",
    "                    command = f\"sh /data/core-app/spark-2.4.1-bin-hadoop2.6/sbin/start-slave.sh spark://pre-spark-01-swi.hitt.hre.local:7077,pre-spark-02-swi.hitt.hre.local:7077,pre-spark-03-swi.hitt.hre.local:7077\"\n",
    "                    print(command)\n",
    "                    channel = ssh.invoke_shell()\n",
    "                    channel.send(command + '\\n')\n",
    "                    time.sleep(2)\n",
    "                    channel.send(password + '\\n')\n",
    "                    time.sleep(2)\n",
    "                    check_list.append(hostname)\n",
    "                finally:\n",
    "                    # Đóng kết nối\n",
    "                    ssh.close()"
   ]
  },
  {
   "cell_type": "code",
   "execution_count": 5,
   "id": "3d0f0dab-c427-4902-b761-7240b97212c6",
   "metadata": {},
   "outputs": [],
   "source": [
    "# response.text"
   ]
  },
  {
   "cell_type": "code",
   "execution_count": null,
   "id": "60afda0d-af2b-403b-af7d-b7791bb3322c",
   "metadata": {},
   "outputs": [],
   "source": []
  },
  {
   "cell_type": "code",
   "execution_count": null,
   "id": "935ad437-0c05-4b07-838a-04157d04384b",
   "metadata": {},
   "outputs": [],
   "source": []
  },
  {
   "cell_type": "code",
   "execution_count": null,
   "id": "d9b57fd0-2622-4053-b7b7-6c7463c1fc37",
   "metadata": {},
   "outputs": [],
   "source": []
  },
  {
   "cell_type": "code",
   "execution_count": null,
   "id": "bee9d36a-64ad-431e-afb7-c904d6158a09",
   "metadata": {},
   "outputs": [],
   "source": []
  },
  {
   "cell_type": "code",
   "execution_count": null,
   "id": "73c1a1d1-6dfd-4438-b92f-fc49983fb99a",
   "metadata": {},
   "outputs": [],
   "source": []
  }
 ],
 "metadata": {
  "kernelspec": {
   "display_name": "Python 3 (ipykernel)",
   "language": "python",
   "name": "python3"
  },
  "language_info": {
   "codemirror_mode": {
    "name": "ipython",
    "version": 3
   },
   "file_extension": ".py",
   "mimetype": "text/x-python",
   "name": "python",
   "nbconvert_exporter": "python",
   "pygments_lexer": "ipython3",
   "version": "3.10.4"
  }
 },
 "nbformat": 4,
 "nbformat_minor": 5
}
