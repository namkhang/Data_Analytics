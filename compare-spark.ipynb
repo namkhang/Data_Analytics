{
 "cells": [
  {
   "cell_type": "code",
   "execution_count": 1,
   "id": "35fbf1bf-1d90-4c5d-8a92-7860e59d9366",
   "metadata": {},
   "outputs": [],
   "source": [
    "import numpy as np\n",
    "from datetime import datetime\n",
    "from pyspark import SparkContext, SparkConf\n",
    "from pyspark.sql import SparkSession , Row\n",
    "from pyspark.sql.types import *\n",
    "from pyspark.sql.functions import col , when , lit , udf ,to_timestamp , monotonically_increasing_id \n",
    "import os\n",
    "import sys\n",
    "\n",
    "os.environ['PYSPARK_PYTHON'] = sys.executable\n",
    "os.environ['PYSPARK_DRIVER_PYTHON'] = sys.executable\n",
    "os.environ[\"JAVA_HOME\"] = \"C:\\Program Files\\Java\\jdk-21\"\n",
    "os.environ[\"SPARK_HOME\"] = \"C:\\spark-3.5.0-bin-hadoop3\"\n"
   ]
  },
  {
   "cell_type": "code",
   "execution_count": null,
   "id": "77b99886-ebc6-4a66-a7cb-b3ab1af472ce",
   "metadata": {},
   "outputs": [],
   "source": [
    "spark_sql = SparkSession.builder \\\n",
    ".appName('spark-df') \\\n",
    ".config(\"spark.master\", \"spark://pre-spark-01-swi.hitt.hre.local:7077,pre-spark-02-swi.hitt.hre.local:7077,pre-spark-03-swi.hitt.hre.local:7077\") \\\n",
    ".config('spark.driver.memory' , '2g') \\\n",
    ".config('spark.executor.instances' , '5') \\\n",
    ".config('spark.executor.cores' , '1') \\\n",
    ".config('spark.executor.memory' , '1g') \\\n",
    ".getOrCreate() \n"
   ]
  },
  {
   "cell_type": "code",
   "execution_count": null,
   "id": "57a5594c-36ff-411a-9235-ad8f75e0bc07",
   "metadata": {},
   "outputs": [],
   "source": [
    "\n",
    "data_err_1 = spark_sql.read.option(\"header\",True).csv(\"error_data_part1.csv\")\n",
    "data_err_2 = spark_sql.read.option(\"header\",True).csv(\"error_data_part2.csv\")\n",
    "data = data_err_1.union(data_err_2).distinct()\n",
    "data.show()"
   ]
  },
  {
   "cell_type": "code",
   "execution_count": null,
   "id": "ac093741-f5e3-430e-9d7c-99f61a9217f8",
   "metadata": {},
   "outputs": [],
   "source": []
  },
  {
   "cell_type": "code",
   "execution_count": null,
   "id": "faccd5fd-3ba1-492e-b727-5aa2384c05f7",
   "metadata": {},
   "outputs": [],
   "source": []
  },
  {
   "cell_type": "code",
   "execution_count": null,
   "id": "2513a2e1-f9cc-46e0-bba0-e956f7370b33",
   "metadata": {},
   "outputs": [],
   "source": []
  },
  {
   "cell_type": "code",
   "execution_count": null,
   "id": "32fbe391-b50f-403c-9cee-41e2c4eb954a",
   "metadata": {},
   "outputs": [],
   "source": []
  },
  {
   "cell_type": "code",
   "execution_count": null,
   "id": "7eff6c01-cb83-474d-bd43-e1a4843a5230",
   "metadata": {},
   "outputs": [],
   "source": []
  },
  {
   "cell_type": "code",
   "execution_count": null,
   "id": "59c3e7c4-9d9e-45ff-b917-d3450589d5b1",
   "metadata": {},
   "outputs": [],
   "source": []
  },
  {
   "cell_type": "code",
   "execution_count": null,
   "id": "2e4e495e-6c98-42dd-b601-6760e69e514d",
   "metadata": {},
   "outputs": [],
   "source": []
  },
  {
   "cell_type": "code",
   "execution_count": null,
   "id": "e5bed675-d290-42d0-a0be-5336db27ed67",
   "metadata": {},
   "outputs": [],
   "source": []
  },
  {
   "cell_type": "code",
   "execution_count": null,
   "id": "23b5dfe3-4c80-4246-b41c-83a2727c086b",
   "metadata": {},
   "outputs": [],
   "source": []
  }
 ],
 "metadata": {
  "kernelspec": {
   "display_name": "Python 3 (ipykernel)",
   "language": "python",
   "name": "python3"
  },
  "language_info": {
   "codemirror_mode": {
    "name": "ipython",
    "version": 3
   },
   "file_extension": ".py",
   "mimetype": "text/x-python",
   "name": "python",
   "nbconvert_exporter": "python",
   "pygments_lexer": "ipython3",
   "version": "3.10.4"
  }
 },
 "nbformat": 4,
 "nbformat_minor": 5
}
