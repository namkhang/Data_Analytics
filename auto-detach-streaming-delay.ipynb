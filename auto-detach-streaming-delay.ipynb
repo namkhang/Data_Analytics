{
 "cells": [
  {
   "cell_type": "code",
   "execution_count": 4,
   "id": "dd92ff18-522c-4a10-b727-db3002fefe48",
   "metadata": {},
   "outputs": [],
   "source": [
    "import requests\n",
    "from bs4 import BeautifulSoup\n",
    "import pandas as pd"
   ]
  },
  {
   "cell_type": "code",
   "execution_count": null,
   "id": "adc37e90-7d00-4685-b884-5a9ae04ce44d",
   "metadata": {},
   "outputs": [],
   "source": [
    "url = 'http://prd-spark-02-uxb.hitt.hre.local:4040/streaming/'\n",
    "response = requests.get(url)\n",
    "response"
   ]
  },
  {
   "cell_type": "code",
   "execution_count": null,
   "id": "9c737800-71e3-45da-b0dd-b94e1f3cddcc",
   "metadata": {},
   "outputs": [],
   "source": [
    "soup = BeautifulSoup(response.text, 'html.parser')\n",
    "table = soup.find('table',  attrs={\"id\": \"completed-batches-table\"})\n",
    "table"
   ]
  },
  {
   "cell_type": "code",
   "execution_count": null,
   "id": "3fa52bf6-7719-444a-9bc1-ff640c4f8d26",
   "metadata": {},
   "outputs": [],
   "source": [
    "data = []\n",
    "headers = [header.text for header in table.find_all('th')]\n",
    "for row in table.find_all('tr'):\n",
    "    cells = row.find_all('td')\n",
    "    if cells: \n",
    "        data_row = [cell.text.strip() for cell in cells]\n",
    "        data.append(data_row)\n",
    "for row in data:\n",
    "    print(row)"
   ]
  },
  {
   "cell_type": "code",
   "execution_count": null,
   "id": "1ea3d03a-676f-4570-94fd-ed61f7225fa4",
   "metadata": {},
   "outputs": [],
   "source": [
    "hostname = '172.30.38.14'\n",
    "port = 22\n",
    "username = 'khang.nguyen@HITT.HRE.LOCAL'\n",
    "password = 'Hitachi@12345678'  \n",
    "ssh = paramiko.SSHClient()\n",
    "ssh.set_missing_host_key_policy(paramiko.AutoAddPolicy())\n",
    "ssh.connect(hostname, port, username, password)\n",
    "stdin, stdout, stderr = ssh.exec_command(command)\n",
    "output = stdout.read().decode()\n",
    "error = stderr.read().decode()\n",
    "print(\"Output:\")\n",
    "print(output)\n",
    "if error:\n",
    "    print(\"Error:\")\n",
    "    print(error)\n",
    "ssh.close()"
   ]
  },
  {
   "cell_type": "code",
   "execution_count": null,
   "id": "c9d7bfc7-d378-4bb1-a068-327c41c1959a",
   "metadata": {},
   "outputs": [],
   "source": []
  },
  {
   "cell_type": "code",
   "execution_count": null,
   "id": "76eab8c8-74cb-47bb-8efd-c4abbc3261e8",
   "metadata": {},
   "outputs": [],
   "source": []
  },
  {
   "cell_type": "code",
   "execution_count": null,
   "id": "0d6b79f0-0342-4dc4-81ef-d0e62270676f",
   "metadata": {},
   "outputs": [],
   "source": []
  },
  {
   "cell_type": "code",
   "execution_count": 5,
   "id": "01d6566c-a5c9-4f91-a8d4-0f6d80d6ba50",
   "metadata": {},
   "outputs": [
    {
     "data": {
      "text/plain": [
       "'2.2.1'"
      ]
     },
     "execution_count": 5,
     "metadata": {},
     "output_type": "execute_result"
    }
   ],
   "source": []
  },
  {
   "cell_type": "code",
   "execution_count": null,
   "id": "04296f96-11d5-4a7e-a926-b2a84b4c618b",
   "metadata": {},
   "outputs": [],
   "source": []
  },
  {
   "cell_type": "code",
   "execution_count": null,
   "id": "e4c81915-b29f-4eef-aa8c-9000742c58e2",
   "metadata": {},
   "outputs": [],
   "source": []
  }
 ],
 "metadata": {
  "kernelspec": {
   "display_name": "Python 3 (ipykernel)",
   "language": "python",
   "name": "python3"
  },
  "language_info": {
   "codemirror_mode": {
    "name": "ipython",
    "version": 3
   },
   "file_extension": ".py",
   "mimetype": "text/x-python",
   "name": "python",
   "nbconvert_exporter": "python",
   "pygments_lexer": "ipython3",
   "version": "3.10.4"
  }
 },
 "nbformat": 4,
 "nbformat_minor": 5
}
